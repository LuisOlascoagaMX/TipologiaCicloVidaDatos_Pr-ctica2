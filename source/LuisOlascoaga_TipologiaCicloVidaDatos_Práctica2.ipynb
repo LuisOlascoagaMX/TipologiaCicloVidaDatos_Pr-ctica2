{
 "cells": [
  {
   "cell_type": "markdown",
   "id": "d466ca4f",
   "metadata": {},
   "source": [
    "# Practica 2"
   ]
  },
  {
   "cell_type": "markdown",
   "id": "a2796eaf",
   "metadata": {},
   "source": [
    "## 1. Descripción del dataset. ¿Por qué es importante y qué pregunta/problema pretende responder?\n",
    "\n",
    "**Introducción**\n",
    "\n",
    "Las enfermedades relacionadas con el corazón han sido uno de los factores que se ha incrementado en los últimos tiempos, esto debido al aumento del sedentarismo  que sufre la sociedad actual.\n",
    "Esta práctica toma como insumo de datos el dataset del sitio kaggle llamado *Heart Attack Analysis & Prediction Dataset:*\n",
    "https://www.kaggle.com/datasets/rashikrahmanpritom/heart-attack-analysis-prediction-dataset\n",
    "\n",
    "**Objetivo**\n",
    "\n",
    "Con base a las características que encontramos en el Dataset *“Heart Attack Analysis & Prediction Dataset”* tenemos el **objetivo predecir de cuando es más probable que las personas sufran un infarto.**\n",
    "\n",
    "Se tomarán las características del conjunto de datos para realizar **análisis de regresión y correlación**  para encontrar las características mas relevantes al momento de un infarto y así poder trabajar en la cultura preventiva sobre este tipo de enfermedades."
   ]
  },
  {
   "cell_type": "markdown",
   "id": "fa2ba1a7",
   "metadata": {},
   "source": [
    "Comenzamos con la descripción del Dataset **Heart Attack Analysis & Prediction Dataset**."
   ]
  },
  {
   "cell_type": "markdown",
   "id": "5865d1de",
   "metadata": {},
   "source": [
    "*Importamos las librerias necesarias para la práctica*"
   ]
  },
  {
   "cell_type": "code",
   "execution_count": 1,
   "id": "b19c0455",
   "metadata": {},
   "outputs": [],
   "source": [
    "import pandas as pd\n",
    "import matplotlib.pyplot as plt\n",
    "import seaborn as sns\n",
    "import scipy.stats as stats\n",
    "import pylab\n",
    "from sklearn.model_selection import train_test_split\n",
    "from sklearn.linear_model import LogisticRegression\n",
    "from sklearn import metrics"
   ]
  },
  {
   "cell_type": "markdown",
   "id": "cbcb8190",
   "metadata": {},
   "source": [
    "*Leemos los 5 archivos CSV para realizar nuestra práctica*"
   ]
  },
  {
   "cell_type": "code",
   "execution_count": 2,
   "id": "b7436cc2",
   "metadata": {},
   "outputs": [],
   "source": [
    "#Leemos la data a analizar.\n",
    "df_heart = pd.read_csv(\"heart.csv\")\n",
    "#Leemos el catalogo del tipo de dolor de pecho.\n",
    "df_chest_pain_catalog = pd.read_csv(\"heart_chest_pain.csv\")\n",
    "#Leemos el catalogo del tipo de output.\n",
    "df_output_catalog = pd.read_csv(\"heart_output.csv\")\n",
    "#Leemos la agrupación que hicimos para la edad\n",
    "df_output_age = pd.read_csv(\"age.csv\")\n",
    "#Leemos la agrupación que hicimos para el ritmo cardiaco\n",
    "df_output_heart_rate = pd.read_csv(\"heart_rate_achieved.csv\")"
   ]
  },
  {
   "cell_type": "code",
   "execution_count": 3,
   "id": "f1c596c2",
   "metadata": {},
   "outputs": [
    {
     "data": {
      "text/html": [
       "<div>\n",
       "<style scoped>\n",
       "    .dataframe tbody tr th:only-of-type {\n",
       "        vertical-align: middle;\n",
       "    }\n",
       "\n",
       "    .dataframe tbody tr th {\n",
       "        vertical-align: top;\n",
       "    }\n",
       "\n",
       "    .dataframe thead th {\n",
       "        text-align: right;\n",
       "    }\n",
       "</style>\n",
       "<table border=\"1\" class=\"dataframe\">\n",
       "  <thead>\n",
       "    <tr style=\"text-align: right;\">\n",
       "      <th></th>\n",
       "      <th>age</th>\n",
       "      <th>sex</th>\n",
       "      <th>cp</th>\n",
       "      <th>trtbps</th>\n",
       "      <th>chol</th>\n",
       "      <th>fbs</th>\n",
       "      <th>restecg</th>\n",
       "      <th>thalachh</th>\n",
       "      <th>exng</th>\n",
       "      <th>oldpeak</th>\n",
       "      <th>slp</th>\n",
       "      <th>caa</th>\n",
       "      <th>thall</th>\n",
       "      <th>output</th>\n",
       "    </tr>\n",
       "  </thead>\n",
       "  <tbody>\n",
       "    <tr>\n",
       "      <th>0</th>\n",
       "      <td>63</td>\n",
       "      <td>1</td>\n",
       "      <td>3</td>\n",
       "      <td>145</td>\n",
       "      <td>233</td>\n",
       "      <td>1</td>\n",
       "      <td>0</td>\n",
       "      <td>150</td>\n",
       "      <td>0</td>\n",
       "      <td>2.3</td>\n",
       "      <td>0</td>\n",
       "      <td>0</td>\n",
       "      <td>1</td>\n",
       "      <td>1</td>\n",
       "    </tr>\n",
       "    <tr>\n",
       "      <th>1</th>\n",
       "      <td>37</td>\n",
       "      <td>1</td>\n",
       "      <td>2</td>\n",
       "      <td>130</td>\n",
       "      <td>250</td>\n",
       "      <td>0</td>\n",
       "      <td>1</td>\n",
       "      <td>187</td>\n",
       "      <td>0</td>\n",
       "      <td>3.5</td>\n",
       "      <td>0</td>\n",
       "      <td>0</td>\n",
       "      <td>2</td>\n",
       "      <td>1</td>\n",
       "    </tr>\n",
       "    <tr>\n",
       "      <th>2</th>\n",
       "      <td>41</td>\n",
       "      <td>0</td>\n",
       "      <td>1</td>\n",
       "      <td>130</td>\n",
       "      <td>204</td>\n",
       "      <td>0</td>\n",
       "      <td>0</td>\n",
       "      <td>172</td>\n",
       "      <td>0</td>\n",
       "      <td>1.4</td>\n",
       "      <td>2</td>\n",
       "      <td>0</td>\n",
       "      <td>2</td>\n",
       "      <td>1</td>\n",
       "    </tr>\n",
       "    <tr>\n",
       "      <th>3</th>\n",
       "      <td>56</td>\n",
       "      <td>1</td>\n",
       "      <td>1</td>\n",
       "      <td>120</td>\n",
       "      <td>236</td>\n",
       "      <td>0</td>\n",
       "      <td>1</td>\n",
       "      <td>178</td>\n",
       "      <td>0</td>\n",
       "      <td>0.8</td>\n",
       "      <td>2</td>\n",
       "      <td>0</td>\n",
       "      <td>2</td>\n",
       "      <td>1</td>\n",
       "    </tr>\n",
       "    <tr>\n",
       "      <th>4</th>\n",
       "      <td>57</td>\n",
       "      <td>0</td>\n",
       "      <td>0</td>\n",
       "      <td>120</td>\n",
       "      <td>354</td>\n",
       "      <td>0</td>\n",
       "      <td>1</td>\n",
       "      <td>163</td>\n",
       "      <td>1</td>\n",
       "      <td>0.6</td>\n",
       "      <td>2</td>\n",
       "      <td>0</td>\n",
       "      <td>2</td>\n",
       "      <td>1</td>\n",
       "    </tr>\n",
       "  </tbody>\n",
       "</table>\n",
       "</div>"
      ],
      "text/plain": [
       "   age  sex  cp  trtbps  chol  fbs  restecg  thalachh  exng  oldpeak  slp  \\\n",
       "0   63    1   3     145   233    1        0       150     0      2.3    0   \n",
       "1   37    1   2     130   250    0        1       187     0      3.5    0   \n",
       "2   41    0   1     130   204    0        0       172     0      1.4    2   \n",
       "3   56    1   1     120   236    0        1       178     0      0.8    2   \n",
       "4   57    0   0     120   354    0        1       163     1      0.6    2   \n",
       "\n",
       "   caa  thall  output  \n",
       "0    0      1       1  \n",
       "1    0      2       1  \n",
       "2    0      2       1  \n",
       "3    0      2       1  \n",
       "4    0      2       1  "
      ]
     },
     "execution_count": 3,
     "metadata": {},
     "output_type": "execute_result"
    }
   ],
   "source": [
    "#Vemos los dataframes generados\n",
    "df_heart.head()"
   ]
  },
  {
   "cell_type": "code",
   "execution_count": 4,
   "id": "47cc83dd",
   "metadata": {},
   "outputs": [
    {
     "data": {
      "text/html": [
       "<div>\n",
       "<style scoped>\n",
       "    .dataframe tbody tr th:only-of-type {\n",
       "        vertical-align: middle;\n",
       "    }\n",
       "\n",
       "    .dataframe tbody tr th {\n",
       "        vertical-align: top;\n",
       "    }\n",
       "\n",
       "    .dataframe thead th {\n",
       "        text-align: right;\n",
       "    }\n",
       "</style>\n",
       "<table border=\"1\" class=\"dataframe\">\n",
       "  <thead>\n",
       "    <tr style=\"text-align: right;\">\n",
       "      <th></th>\n",
       "      <th>chest_pain</th>\n",
       "      <th>chest_pain_desc</th>\n",
       "    </tr>\n",
       "  </thead>\n",
       "  <tbody>\n",
       "    <tr>\n",
       "      <th>0</th>\n",
       "      <td>1</td>\n",
       "      <td>typical angina</td>\n",
       "    </tr>\n",
       "    <tr>\n",
       "      <th>1</th>\n",
       "      <td>2</td>\n",
       "      <td>atypical angina</td>\n",
       "    </tr>\n",
       "    <tr>\n",
       "      <th>2</th>\n",
       "      <td>3</td>\n",
       "      <td>non-anginal pain</td>\n",
       "    </tr>\n",
       "    <tr>\n",
       "      <th>3</th>\n",
       "      <td>4</td>\n",
       "      <td>asymptomatic</td>\n",
       "    </tr>\n",
       "    <tr>\n",
       "      <th>4</th>\n",
       "      <td>0</td>\n",
       "      <td>normal</td>\n",
       "    </tr>\n",
       "  </tbody>\n",
       "</table>\n",
       "</div>"
      ],
      "text/plain": [
       "   chest_pain   chest_pain_desc\n",
       "0           1    typical angina\n",
       "1           2   atypical angina\n",
       "2           3  non-anginal pain\n",
       "3           4      asymptomatic\n",
       "4           0            normal"
      ]
     },
     "execution_count": 4,
     "metadata": {},
     "output_type": "execute_result"
    }
   ],
   "source": [
    "df_chest_pain_catalog.head()"
   ]
  },
  {
   "cell_type": "code",
   "execution_count": 5,
   "id": "4d68ff67",
   "metadata": {},
   "outputs": [
    {
     "data": {
      "text/html": [
       "<div>\n",
       "<style scoped>\n",
       "    .dataframe tbody tr th:only-of-type {\n",
       "        vertical-align: middle;\n",
       "    }\n",
       "\n",
       "    .dataframe tbody tr th {\n",
       "        vertical-align: top;\n",
       "    }\n",
       "\n",
       "    .dataframe thead th {\n",
       "        text-align: right;\n",
       "    }\n",
       "</style>\n",
       "<table border=\"1\" class=\"dataframe\">\n",
       "  <thead>\n",
       "    <tr style=\"text-align: right;\">\n",
       "      <th></th>\n",
       "      <th>output</th>\n",
       "      <th>output_desc</th>\n",
       "    </tr>\n",
       "  </thead>\n",
       "  <tbody>\n",
       "    <tr>\n",
       "      <th>0</th>\n",
       "      <td>0</td>\n",
       "      <td>less chance</td>\n",
       "    </tr>\n",
       "    <tr>\n",
       "      <th>1</th>\n",
       "      <td>1</td>\n",
       "      <td>more chance</td>\n",
       "    </tr>\n",
       "  </tbody>\n",
       "</table>\n",
       "</div>"
      ],
      "text/plain": [
       "   output  output_desc\n",
       "0       0  less chance\n",
       "1       1  more chance"
      ]
     },
     "execution_count": 5,
     "metadata": {},
     "output_type": "execute_result"
    }
   ],
   "source": [
    "df_output_catalog.head()"
   ]
  },
  {
   "cell_type": "code",
   "execution_count": 6,
   "id": "bccf85dc",
   "metadata": {},
   "outputs": [
    {
     "data": {
      "text/html": [
       "<div>\n",
       "<style scoped>\n",
       "    .dataframe tbody tr th:only-of-type {\n",
       "        vertical-align: middle;\n",
       "    }\n",
       "\n",
       "    .dataframe tbody tr th {\n",
       "        vertical-align: top;\n",
       "    }\n",
       "\n",
       "    .dataframe thead th {\n",
       "        text-align: right;\n",
       "    }\n",
       "</style>\n",
       "<table border=\"1\" class=\"dataframe\">\n",
       "  <thead>\n",
       "    <tr style=\"text-align: right;\">\n",
       "      <th></th>\n",
       "      <th>age</th>\n",
       "      <th>age_desc</th>\n",
       "    </tr>\n",
       "  </thead>\n",
       "  <tbody>\n",
       "    <tr>\n",
       "      <th>0</th>\n",
       "      <td>29</td>\n",
       "      <td>29-39</td>\n",
       "    </tr>\n",
       "    <tr>\n",
       "      <th>1</th>\n",
       "      <td>34</td>\n",
       "      <td>29-39</td>\n",
       "    </tr>\n",
       "    <tr>\n",
       "      <th>2</th>\n",
       "      <td>35</td>\n",
       "      <td>29-39</td>\n",
       "    </tr>\n",
       "    <tr>\n",
       "      <th>3</th>\n",
       "      <td>37</td>\n",
       "      <td>29-39</td>\n",
       "    </tr>\n",
       "    <tr>\n",
       "      <th>4</th>\n",
       "      <td>38</td>\n",
       "      <td>29-39</td>\n",
       "    </tr>\n",
       "  </tbody>\n",
       "</table>\n",
       "</div>"
      ],
      "text/plain": [
       "   age age_desc\n",
       "0   29    29-39\n",
       "1   34    29-39\n",
       "2   35    29-39\n",
       "3   37    29-39\n",
       "4   38    29-39"
      ]
     },
     "execution_count": 6,
     "metadata": {},
     "output_type": "execute_result"
    }
   ],
   "source": [
    "df_output_age.head()"
   ]
  },
  {
   "cell_type": "code",
   "execution_count": 7,
   "id": "82d06cac",
   "metadata": {},
   "outputs": [
    {
     "data": {
      "text/html": [
       "<div>\n",
       "<style scoped>\n",
       "    .dataframe tbody tr th:only-of-type {\n",
       "        vertical-align: middle;\n",
       "    }\n",
       "\n",
       "    .dataframe tbody tr th {\n",
       "        vertical-align: top;\n",
       "    }\n",
       "\n",
       "    .dataframe thead th {\n",
       "        text-align: right;\n",
       "    }\n",
       "</style>\n",
       "<table border=\"1\" class=\"dataframe\">\n",
       "  <thead>\n",
       "    <tr style=\"text-align: right;\">\n",
       "      <th></th>\n",
       "      <th>maximum_heart_rate_achieved</th>\n",
       "      <th>heart_rate_desc</th>\n",
       "    </tr>\n",
       "  </thead>\n",
       "  <tbody>\n",
       "    <tr>\n",
       "      <th>0</th>\n",
       "      <td>71</td>\n",
       "      <td>70-100</td>\n",
       "    </tr>\n",
       "    <tr>\n",
       "      <th>1</th>\n",
       "      <td>88</td>\n",
       "      <td>70-100</td>\n",
       "    </tr>\n",
       "    <tr>\n",
       "      <th>2</th>\n",
       "      <td>90</td>\n",
       "      <td>70-100</td>\n",
       "    </tr>\n",
       "    <tr>\n",
       "      <th>3</th>\n",
       "      <td>95</td>\n",
       "      <td>70-100</td>\n",
       "    </tr>\n",
       "    <tr>\n",
       "      <th>4</th>\n",
       "      <td>96</td>\n",
       "      <td>70-100</td>\n",
       "    </tr>\n",
       "  </tbody>\n",
       "</table>\n",
       "</div>"
      ],
      "text/plain": [
       "   maximum_heart_rate_achieved heart_rate_desc\n",
       "0                           71          70-100\n",
       "1                           88          70-100\n",
       "2                           90          70-100\n",
       "3                           95          70-100\n",
       "4                           96          70-100"
      ]
     },
     "execution_count": 7,
     "metadata": {},
     "output_type": "execute_result"
    }
   ],
   "source": [
    "df_output_heart_rate.head()"
   ]
  },
  {
   "cell_type": "markdown",
   "id": "18673359",
   "metadata": {},
   "source": [
    "*Renombramos las columnas para tener una descripcion mas entendible.*"
   ]
  },
  {
   "cell_type": "code",
   "execution_count": 8,
   "id": "7e9104d0",
   "metadata": {},
   "outputs": [
    {
     "data": {
      "text/html": [
       "<div>\n",
       "<style scoped>\n",
       "    .dataframe tbody tr th:only-of-type {\n",
       "        vertical-align: middle;\n",
       "    }\n",
       "\n",
       "    .dataframe tbody tr th {\n",
       "        vertical-align: top;\n",
       "    }\n",
       "\n",
       "    .dataframe thead th {\n",
       "        text-align: right;\n",
       "    }\n",
       "</style>\n",
       "<table border=\"1\" class=\"dataframe\">\n",
       "  <thead>\n",
       "    <tr style=\"text-align: right;\">\n",
       "      <th></th>\n",
       "      <th>age</th>\n",
       "      <th>sex</th>\n",
       "      <th>chest_pain</th>\n",
       "      <th>resting_blood_pressure</th>\n",
       "      <th>cholestoral</th>\n",
       "      <th>fasting_blood_sugar</th>\n",
       "      <th>resting_electrocardiographic</th>\n",
       "      <th>maximum_heart_rate_achieved</th>\n",
       "      <th>exercise_induced_angina</th>\n",
       "      <th>previous_peak</th>\n",
       "      <th>slp</th>\n",
       "      <th>number_major_vessels</th>\n",
       "      <th>thal_rate</th>\n",
       "      <th>output</th>\n",
       "    </tr>\n",
       "  </thead>\n",
       "  <tbody>\n",
       "    <tr>\n",
       "      <th>0</th>\n",
       "      <td>63</td>\n",
       "      <td>1</td>\n",
       "      <td>3</td>\n",
       "      <td>145</td>\n",
       "      <td>233</td>\n",
       "      <td>1</td>\n",
       "      <td>0</td>\n",
       "      <td>150</td>\n",
       "      <td>0</td>\n",
       "      <td>2.3</td>\n",
       "      <td>0</td>\n",
       "      <td>0</td>\n",
       "      <td>1</td>\n",
       "      <td>1</td>\n",
       "    </tr>\n",
       "    <tr>\n",
       "      <th>1</th>\n",
       "      <td>37</td>\n",
       "      <td>1</td>\n",
       "      <td>2</td>\n",
       "      <td>130</td>\n",
       "      <td>250</td>\n",
       "      <td>0</td>\n",
       "      <td>1</td>\n",
       "      <td>187</td>\n",
       "      <td>0</td>\n",
       "      <td>3.5</td>\n",
       "      <td>0</td>\n",
       "      <td>0</td>\n",
       "      <td>2</td>\n",
       "      <td>1</td>\n",
       "    </tr>\n",
       "    <tr>\n",
       "      <th>2</th>\n",
       "      <td>41</td>\n",
       "      <td>0</td>\n",
       "      <td>1</td>\n",
       "      <td>130</td>\n",
       "      <td>204</td>\n",
       "      <td>0</td>\n",
       "      <td>0</td>\n",
       "      <td>172</td>\n",
       "      <td>0</td>\n",
       "      <td>1.4</td>\n",
       "      <td>2</td>\n",
       "      <td>0</td>\n",
       "      <td>2</td>\n",
       "      <td>1</td>\n",
       "    </tr>\n",
       "    <tr>\n",
       "      <th>3</th>\n",
       "      <td>56</td>\n",
       "      <td>1</td>\n",
       "      <td>1</td>\n",
       "      <td>120</td>\n",
       "      <td>236</td>\n",
       "      <td>0</td>\n",
       "      <td>1</td>\n",
       "      <td>178</td>\n",
       "      <td>0</td>\n",
       "      <td>0.8</td>\n",
       "      <td>2</td>\n",
       "      <td>0</td>\n",
       "      <td>2</td>\n",
       "      <td>1</td>\n",
       "    </tr>\n",
       "    <tr>\n",
       "      <th>4</th>\n",
       "      <td>57</td>\n",
       "      <td>0</td>\n",
       "      <td>0</td>\n",
       "      <td>120</td>\n",
       "      <td>354</td>\n",
       "      <td>0</td>\n",
       "      <td>1</td>\n",
       "      <td>163</td>\n",
       "      <td>1</td>\n",
       "      <td>0.6</td>\n",
       "      <td>2</td>\n",
       "      <td>0</td>\n",
       "      <td>2</td>\n",
       "      <td>1</td>\n",
       "    </tr>\n",
       "    <tr>\n",
       "      <th>...</th>\n",
       "      <td>...</td>\n",
       "      <td>...</td>\n",
       "      <td>...</td>\n",
       "      <td>...</td>\n",
       "      <td>...</td>\n",
       "      <td>...</td>\n",
       "      <td>...</td>\n",
       "      <td>...</td>\n",
       "      <td>...</td>\n",
       "      <td>...</td>\n",
       "      <td>...</td>\n",
       "      <td>...</td>\n",
       "      <td>...</td>\n",
       "      <td>...</td>\n",
       "    </tr>\n",
       "    <tr>\n",
       "      <th>298</th>\n",
       "      <td>57</td>\n",
       "      <td>0</td>\n",
       "      <td>0</td>\n",
       "      <td>140</td>\n",
       "      <td>241</td>\n",
       "      <td>0</td>\n",
       "      <td>1</td>\n",
       "      <td>123</td>\n",
       "      <td>1</td>\n",
       "      <td>0.2</td>\n",
       "      <td>1</td>\n",
       "      <td>0</td>\n",
       "      <td>3</td>\n",
       "      <td>0</td>\n",
       "    </tr>\n",
       "    <tr>\n",
       "      <th>299</th>\n",
       "      <td>45</td>\n",
       "      <td>1</td>\n",
       "      <td>3</td>\n",
       "      <td>110</td>\n",
       "      <td>264</td>\n",
       "      <td>0</td>\n",
       "      <td>1</td>\n",
       "      <td>132</td>\n",
       "      <td>0</td>\n",
       "      <td>1.2</td>\n",
       "      <td>1</td>\n",
       "      <td>0</td>\n",
       "      <td>3</td>\n",
       "      <td>0</td>\n",
       "    </tr>\n",
       "    <tr>\n",
       "      <th>300</th>\n",
       "      <td>68</td>\n",
       "      <td>1</td>\n",
       "      <td>0</td>\n",
       "      <td>144</td>\n",
       "      <td>193</td>\n",
       "      <td>1</td>\n",
       "      <td>1</td>\n",
       "      <td>141</td>\n",
       "      <td>0</td>\n",
       "      <td>3.4</td>\n",
       "      <td>1</td>\n",
       "      <td>2</td>\n",
       "      <td>3</td>\n",
       "      <td>0</td>\n",
       "    </tr>\n",
       "    <tr>\n",
       "      <th>301</th>\n",
       "      <td>57</td>\n",
       "      <td>1</td>\n",
       "      <td>0</td>\n",
       "      <td>130</td>\n",
       "      <td>131</td>\n",
       "      <td>0</td>\n",
       "      <td>1</td>\n",
       "      <td>115</td>\n",
       "      <td>1</td>\n",
       "      <td>1.2</td>\n",
       "      <td>1</td>\n",
       "      <td>1</td>\n",
       "      <td>3</td>\n",
       "      <td>0</td>\n",
       "    </tr>\n",
       "    <tr>\n",
       "      <th>302</th>\n",
       "      <td>57</td>\n",
       "      <td>0</td>\n",
       "      <td>1</td>\n",
       "      <td>130</td>\n",
       "      <td>236</td>\n",
       "      <td>0</td>\n",
       "      <td>0</td>\n",
       "      <td>174</td>\n",
       "      <td>0</td>\n",
       "      <td>0.0</td>\n",
       "      <td>1</td>\n",
       "      <td>1</td>\n",
       "      <td>2</td>\n",
       "      <td>0</td>\n",
       "    </tr>\n",
       "  </tbody>\n",
       "</table>\n",
       "<p>303 rows × 14 columns</p>\n",
       "</div>"
      ],
      "text/plain": [
       "     age  sex  chest_pain  resting_blood_pressure  cholestoral  \\\n",
       "0     63    1           3                     145          233   \n",
       "1     37    1           2                     130          250   \n",
       "2     41    0           1                     130          204   \n",
       "3     56    1           1                     120          236   \n",
       "4     57    0           0                     120          354   \n",
       "..   ...  ...         ...                     ...          ...   \n",
       "298   57    0           0                     140          241   \n",
       "299   45    1           3                     110          264   \n",
       "300   68    1           0                     144          193   \n",
       "301   57    1           0                     130          131   \n",
       "302   57    0           1                     130          236   \n",
       "\n",
       "     fasting_blood_sugar  resting_electrocardiographic  \\\n",
       "0                      1                             0   \n",
       "1                      0                             1   \n",
       "2                      0                             0   \n",
       "3                      0                             1   \n",
       "4                      0                             1   \n",
       "..                   ...                           ...   \n",
       "298                    0                             1   \n",
       "299                    0                             1   \n",
       "300                    1                             1   \n",
       "301                    0                             1   \n",
       "302                    0                             0   \n",
       "\n",
       "     maximum_heart_rate_achieved  exercise_induced_angina  previous_peak  slp  \\\n",
       "0                            150                        0            2.3    0   \n",
       "1                            187                        0            3.5    0   \n",
       "2                            172                        0            1.4    2   \n",
       "3                            178                        0            0.8    2   \n",
       "4                            163                        1            0.6    2   \n",
       "..                           ...                      ...            ...  ...   \n",
       "298                          123                        1            0.2    1   \n",
       "299                          132                        0            1.2    1   \n",
       "300                          141                        0            3.4    1   \n",
       "301                          115                        1            1.2    1   \n",
       "302                          174                        0            0.0    1   \n",
       "\n",
       "     number_major_vessels  thal_rate  output  \n",
       "0                       0          1       1  \n",
       "1                       0          2       1  \n",
       "2                       0          2       1  \n",
       "3                       0          2       1  \n",
       "4                       0          2       1  \n",
       "..                    ...        ...     ...  \n",
       "298                     0          3       0  \n",
       "299                     0          3       0  \n",
       "300                     2          3       0  \n",
       "301                     1          3       0  \n",
       "302                     1          2       0  \n",
       "\n",
       "[303 rows x 14 columns]"
      ]
     },
     "execution_count": 8,
     "metadata": {},
     "output_type": "execute_result"
    }
   ],
   "source": [
    "df_heart.rename(columns={\"age\":\"age\"}, inplace=True)\n",
    "df_heart.rename(columns={\"sex\":\"sex\"}, inplace=True)\n",
    "df_heart.rename(columns={\"cp\":\"chest_pain\"}, inplace=True)\n",
    "df_heart.rename(columns={\"trtbps\":\"resting_blood_pressure\"}, inplace=True)\n",
    "df_heart.rename(columns={\"chol\":\"cholestoral\"}, inplace=True)\n",
    "df_heart.rename(columns={\"fbs\":\"fasting_blood_sugar\"}, inplace=True)\n",
    "df_heart.rename(columns={\"restecg\":\"resting_electrocardiographic\"}, inplace=True)\n",
    "df_heart.rename(columns={\"thalachh\":\"maximum_heart_rate_achieved\"}, inplace=True)\n",
    "df_heart.rename(columns={\"exng\":\"exercise_induced_angina\"}, inplace=True)\n",
    "df_heart.rename(columns={\"oldpeak\":\"previous_peak\"}, inplace=True)\n",
    "df_heart.rename(columns={\"caa\":\"number_major_vessels\"}, inplace=True)\n",
    "df_heart.rename(columns={\"thall\":\"thal_rate\"}, inplace=True)\n",
    "df_heart.rename(columns={\"output\":\"output\"}, inplace=True)\n",
    "df_heart"
   ]
  },
  {
   "cell_type": "markdown",
   "id": "09b603cb",
   "metadata": {},
   "source": [
    "*Análisis exploratorio*"
   ]
  },
  {
   "cell_type": "code",
   "execution_count": 9,
   "id": "466ea865",
   "metadata": {},
   "outputs": [
    {
     "name": "stdout",
     "output_type": "stream",
     "text": [
      "<class 'pandas.core.frame.DataFrame'>\n",
      "RangeIndex: 303 entries, 0 to 302\n",
      "Data columns (total 14 columns):\n",
      " #   Column                        Non-Null Count  Dtype  \n",
      "---  ------                        --------------  -----  \n",
      " 0   age                           303 non-null    int64  \n",
      " 1   sex                           303 non-null    int64  \n",
      " 2   chest_pain                    303 non-null    int64  \n",
      " 3   resting_blood_pressure        303 non-null    int64  \n",
      " 4   cholestoral                   303 non-null    int64  \n",
      " 5   fasting_blood_sugar           303 non-null    int64  \n",
      " 6   resting_electrocardiographic  303 non-null    int64  \n",
      " 7   maximum_heart_rate_achieved   303 non-null    int64  \n",
      " 8   exercise_induced_angina       303 non-null    int64  \n",
      " 9   previous_peak                 303 non-null    float64\n",
      " 10  slp                           303 non-null    int64  \n",
      " 11  number_major_vessels          303 non-null    int64  \n",
      " 12  thal_rate                     303 non-null    int64  \n",
      " 13  output                        303 non-null    int64  \n",
      "dtypes: float64(1), int64(13)\n",
      "memory usage: 33.3 KB\n"
     ]
    }
   ],
   "source": [
    "df_heart.info()"
   ]
  },
  {
   "cell_type": "code",
   "execution_count": 10,
   "id": "1754be5d",
   "metadata": {},
   "outputs": [
    {
     "data": {
      "text/html": [
       "<div>\n",
       "<style scoped>\n",
       "    .dataframe tbody tr th:only-of-type {\n",
       "        vertical-align: middle;\n",
       "    }\n",
       "\n",
       "    .dataframe tbody tr th {\n",
       "        vertical-align: top;\n",
       "    }\n",
       "\n",
       "    .dataframe thead th {\n",
       "        text-align: right;\n",
       "    }\n",
       "</style>\n",
       "<table border=\"1\" class=\"dataframe\">\n",
       "  <thead>\n",
       "    <tr style=\"text-align: right;\">\n",
       "      <th></th>\n",
       "      <th>age</th>\n",
       "      <th>sex</th>\n",
       "      <th>chest_pain</th>\n",
       "      <th>resting_blood_pressure</th>\n",
       "      <th>cholestoral</th>\n",
       "      <th>fasting_blood_sugar</th>\n",
       "      <th>resting_electrocardiographic</th>\n",
       "      <th>maximum_heart_rate_achieved</th>\n",
       "      <th>exercise_induced_angina</th>\n",
       "      <th>previous_peak</th>\n",
       "      <th>slp</th>\n",
       "      <th>number_major_vessels</th>\n",
       "      <th>thal_rate</th>\n",
       "      <th>output</th>\n",
       "    </tr>\n",
       "  </thead>\n",
       "  <tbody>\n",
       "    <tr>\n",
       "      <th>count</th>\n",
       "      <td>303.000000</td>\n",
       "      <td>303.000000</td>\n",
       "      <td>303.000000</td>\n",
       "      <td>303.000000</td>\n",
       "      <td>303.000000</td>\n",
       "      <td>303.000000</td>\n",
       "      <td>303.000000</td>\n",
       "      <td>303.000000</td>\n",
       "      <td>303.000000</td>\n",
       "      <td>303.000000</td>\n",
       "      <td>303.000000</td>\n",
       "      <td>303.000000</td>\n",
       "      <td>303.000000</td>\n",
       "      <td>303.000000</td>\n",
       "    </tr>\n",
       "    <tr>\n",
       "      <th>mean</th>\n",
       "      <td>54.366337</td>\n",
       "      <td>0.683168</td>\n",
       "      <td>0.966997</td>\n",
       "      <td>131.623762</td>\n",
       "      <td>246.264026</td>\n",
       "      <td>0.148515</td>\n",
       "      <td>0.528053</td>\n",
       "      <td>149.646865</td>\n",
       "      <td>0.326733</td>\n",
       "      <td>1.039604</td>\n",
       "      <td>1.399340</td>\n",
       "      <td>0.729373</td>\n",
       "      <td>2.313531</td>\n",
       "      <td>0.544554</td>\n",
       "    </tr>\n",
       "    <tr>\n",
       "      <th>std</th>\n",
       "      <td>9.082101</td>\n",
       "      <td>0.466011</td>\n",
       "      <td>1.032052</td>\n",
       "      <td>17.538143</td>\n",
       "      <td>51.830751</td>\n",
       "      <td>0.356198</td>\n",
       "      <td>0.525860</td>\n",
       "      <td>22.905161</td>\n",
       "      <td>0.469794</td>\n",
       "      <td>1.161075</td>\n",
       "      <td>0.616226</td>\n",
       "      <td>1.022606</td>\n",
       "      <td>0.612277</td>\n",
       "      <td>0.498835</td>\n",
       "    </tr>\n",
       "    <tr>\n",
       "      <th>min</th>\n",
       "      <td>29.000000</td>\n",
       "      <td>0.000000</td>\n",
       "      <td>0.000000</td>\n",
       "      <td>94.000000</td>\n",
       "      <td>126.000000</td>\n",
       "      <td>0.000000</td>\n",
       "      <td>0.000000</td>\n",
       "      <td>71.000000</td>\n",
       "      <td>0.000000</td>\n",
       "      <td>0.000000</td>\n",
       "      <td>0.000000</td>\n",
       "      <td>0.000000</td>\n",
       "      <td>0.000000</td>\n",
       "      <td>0.000000</td>\n",
       "    </tr>\n",
       "    <tr>\n",
       "      <th>25%</th>\n",
       "      <td>47.500000</td>\n",
       "      <td>0.000000</td>\n",
       "      <td>0.000000</td>\n",
       "      <td>120.000000</td>\n",
       "      <td>211.000000</td>\n",
       "      <td>0.000000</td>\n",
       "      <td>0.000000</td>\n",
       "      <td>133.500000</td>\n",
       "      <td>0.000000</td>\n",
       "      <td>0.000000</td>\n",
       "      <td>1.000000</td>\n",
       "      <td>0.000000</td>\n",
       "      <td>2.000000</td>\n",
       "      <td>0.000000</td>\n",
       "    </tr>\n",
       "    <tr>\n",
       "      <th>50%</th>\n",
       "      <td>55.000000</td>\n",
       "      <td>1.000000</td>\n",
       "      <td>1.000000</td>\n",
       "      <td>130.000000</td>\n",
       "      <td>240.000000</td>\n",
       "      <td>0.000000</td>\n",
       "      <td>1.000000</td>\n",
       "      <td>153.000000</td>\n",
       "      <td>0.000000</td>\n",
       "      <td>0.800000</td>\n",
       "      <td>1.000000</td>\n",
       "      <td>0.000000</td>\n",
       "      <td>2.000000</td>\n",
       "      <td>1.000000</td>\n",
       "    </tr>\n",
       "    <tr>\n",
       "      <th>75%</th>\n",
       "      <td>61.000000</td>\n",
       "      <td>1.000000</td>\n",
       "      <td>2.000000</td>\n",
       "      <td>140.000000</td>\n",
       "      <td>274.500000</td>\n",
       "      <td>0.000000</td>\n",
       "      <td>1.000000</td>\n",
       "      <td>166.000000</td>\n",
       "      <td>1.000000</td>\n",
       "      <td>1.600000</td>\n",
       "      <td>2.000000</td>\n",
       "      <td>1.000000</td>\n",
       "      <td>3.000000</td>\n",
       "      <td>1.000000</td>\n",
       "    </tr>\n",
       "    <tr>\n",
       "      <th>max</th>\n",
       "      <td>77.000000</td>\n",
       "      <td>1.000000</td>\n",
       "      <td>3.000000</td>\n",
       "      <td>200.000000</td>\n",
       "      <td>564.000000</td>\n",
       "      <td>1.000000</td>\n",
       "      <td>2.000000</td>\n",
       "      <td>202.000000</td>\n",
       "      <td>1.000000</td>\n",
       "      <td>6.200000</td>\n",
       "      <td>2.000000</td>\n",
       "      <td>4.000000</td>\n",
       "      <td>3.000000</td>\n",
       "      <td>1.000000</td>\n",
       "    </tr>\n",
       "  </tbody>\n",
       "</table>\n",
       "</div>"
      ],
      "text/plain": [
       "              age         sex  chest_pain  resting_blood_pressure  \\\n",
       "count  303.000000  303.000000  303.000000              303.000000   \n",
       "mean    54.366337    0.683168    0.966997              131.623762   \n",
       "std      9.082101    0.466011    1.032052               17.538143   \n",
       "min     29.000000    0.000000    0.000000               94.000000   \n",
       "25%     47.500000    0.000000    0.000000              120.000000   \n",
       "50%     55.000000    1.000000    1.000000              130.000000   \n",
       "75%     61.000000    1.000000    2.000000              140.000000   \n",
       "max     77.000000    1.000000    3.000000              200.000000   \n",
       "\n",
       "       cholestoral  fasting_blood_sugar  resting_electrocardiographic  \\\n",
       "count   303.000000           303.000000                    303.000000   \n",
       "mean    246.264026             0.148515                      0.528053   \n",
       "std      51.830751             0.356198                      0.525860   \n",
       "min     126.000000             0.000000                      0.000000   \n",
       "25%     211.000000             0.000000                      0.000000   \n",
       "50%     240.000000             0.000000                      1.000000   \n",
       "75%     274.500000             0.000000                      1.000000   \n",
       "max     564.000000             1.000000                      2.000000   \n",
       "\n",
       "       maximum_heart_rate_achieved  exercise_induced_angina  previous_peak  \\\n",
       "count                   303.000000               303.000000     303.000000   \n",
       "mean                    149.646865                 0.326733       1.039604   \n",
       "std                      22.905161                 0.469794       1.161075   \n",
       "min                      71.000000                 0.000000       0.000000   \n",
       "25%                     133.500000                 0.000000       0.000000   \n",
       "50%                     153.000000                 0.000000       0.800000   \n",
       "75%                     166.000000                 1.000000       1.600000   \n",
       "max                     202.000000                 1.000000       6.200000   \n",
       "\n",
       "              slp  number_major_vessels   thal_rate      output  \n",
       "count  303.000000            303.000000  303.000000  303.000000  \n",
       "mean     1.399340              0.729373    2.313531    0.544554  \n",
       "std      0.616226              1.022606    0.612277    0.498835  \n",
       "min      0.000000              0.000000    0.000000    0.000000  \n",
       "25%      1.000000              0.000000    2.000000    0.000000  \n",
       "50%      1.000000              0.000000    2.000000    1.000000  \n",
       "75%      2.000000              1.000000    3.000000    1.000000  \n",
       "max      2.000000              4.000000    3.000000    1.000000  "
      ]
     },
     "execution_count": 10,
     "metadata": {},
     "output_type": "execute_result"
    }
   ],
   "source": [
    "df_heart.describe()"
   ]
  },
  {
   "cell_type": "code",
   "execution_count": 11,
   "id": "f5abe55f",
   "metadata": {},
   "outputs": [
    {
     "data": {
      "text/plain": [
       "(303, 14)"
      ]
     },
     "execution_count": 11,
     "metadata": {},
     "output_type": "execute_result"
    }
   ],
   "source": [
    "df_heart.shape\n"
   ]
  },
  {
   "cell_type": "code",
   "execution_count": 12,
   "id": "2a672335",
   "metadata": {},
   "outputs": [
    {
     "data": {
      "text/plain": [
       "Index(['age', 'sex', 'chest_pain', 'resting_blood_pressure', 'cholestoral',\n",
       "       'fasting_blood_sugar', 'resting_electrocardiographic',\n",
       "       'maximum_heart_rate_achieved', 'exercise_induced_angina',\n",
       "       'previous_peak', 'slp', 'number_major_vessels', 'thal_rate', 'output'],\n",
       "      dtype='object')"
      ]
     },
     "execution_count": 12,
     "metadata": {},
     "output_type": "execute_result"
    }
   ],
   "source": [
    "df_heart.columns\n"
   ]
  },
  {
   "cell_type": "markdown",
   "id": "d49d4792",
   "metadata": {},
   "source": [
    "## 2. Integración y selección de los datos de interés a analizar. \n",
    "\n",
    "* Puede ser el resultado de adicionar diferentes datasets o una subselección útil de los datos originales, en base al objetivo que se quiera conseguir."
   ]
  },
  {
   "cell_type": "markdown",
   "id": "420b8c83",
   "metadata": {},
   "source": [
    "En esta parte integramos los catalogos que cargamos en el **punto 1**, *chest_pain, output, heart_rate and age* al dataframe principal para continuar con nuestros análsis.\n",
    "\n",
    "Cabe aclarar que en el catalogo de *age*, agregamos una columna en donde se especifica la agrupación de la edad, en los siguientes análisis lo vamos a demostrar."
   ]
  },
  {
   "cell_type": "code",
   "execution_count": 13,
   "id": "87f8114a",
   "metadata": {},
   "outputs": [
    {
     "data": {
      "text/html": [
       "<div>\n",
       "<style scoped>\n",
       "    .dataframe tbody tr th:only-of-type {\n",
       "        vertical-align: middle;\n",
       "    }\n",
       "\n",
       "    .dataframe tbody tr th {\n",
       "        vertical-align: top;\n",
       "    }\n",
       "\n",
       "    .dataframe thead th {\n",
       "        text-align: right;\n",
       "    }\n",
       "</style>\n",
       "<table border=\"1\" class=\"dataframe\">\n",
       "  <thead>\n",
       "    <tr style=\"text-align: right;\">\n",
       "      <th></th>\n",
       "      <th>age</th>\n",
       "      <th>sex</th>\n",
       "      <th>chest_pain</th>\n",
       "      <th>resting_blood_pressure</th>\n",
       "      <th>cholestoral</th>\n",
       "      <th>fasting_blood_sugar</th>\n",
       "      <th>resting_electrocardiographic</th>\n",
       "      <th>maximum_heart_rate_achieved</th>\n",
       "      <th>exercise_induced_angina</th>\n",
       "      <th>previous_peak</th>\n",
       "      <th>slp</th>\n",
       "      <th>number_major_vessels</th>\n",
       "      <th>thal_rate</th>\n",
       "      <th>output</th>\n",
       "      <th>chest_pain_desc</th>\n",
       "      <th>output_desc</th>\n",
       "      <th>heart_rate_desc</th>\n",
       "      <th>age_desc</th>\n",
       "    </tr>\n",
       "  </thead>\n",
       "  <tbody>\n",
       "    <tr>\n",
       "      <th>0</th>\n",
       "      <td>63</td>\n",
       "      <td>1</td>\n",
       "      <td>3</td>\n",
       "      <td>145</td>\n",
       "      <td>233</td>\n",
       "      <td>1</td>\n",
       "      <td>0</td>\n",
       "      <td>150</td>\n",
       "      <td>0</td>\n",
       "      <td>2.3</td>\n",
       "      <td>0</td>\n",
       "      <td>0</td>\n",
       "      <td>1</td>\n",
       "      <td>1</td>\n",
       "      <td>non-anginal pain</td>\n",
       "      <td>more chance</td>\n",
       "      <td>141-160</td>\n",
       "      <td>60-65</td>\n",
       "    </tr>\n",
       "    <tr>\n",
       "      <th>1</th>\n",
       "      <td>37</td>\n",
       "      <td>1</td>\n",
       "      <td>2</td>\n",
       "      <td>130</td>\n",
       "      <td>250</td>\n",
       "      <td>0</td>\n",
       "      <td>1</td>\n",
       "      <td>187</td>\n",
       "      <td>0</td>\n",
       "      <td>3.5</td>\n",
       "      <td>0</td>\n",
       "      <td>0</td>\n",
       "      <td>2</td>\n",
       "      <td>1</td>\n",
       "      <td>atypical angina</td>\n",
       "      <td>more chance</td>\n",
       "      <td>180-202</td>\n",
       "      <td>29-39</td>\n",
       "    </tr>\n",
       "    <tr>\n",
       "      <th>2</th>\n",
       "      <td>41</td>\n",
       "      <td>0</td>\n",
       "      <td>1</td>\n",
       "      <td>130</td>\n",
       "      <td>204</td>\n",
       "      <td>0</td>\n",
       "      <td>0</td>\n",
       "      <td>172</td>\n",
       "      <td>0</td>\n",
       "      <td>1.4</td>\n",
       "      <td>2</td>\n",
       "      <td>0</td>\n",
       "      <td>2</td>\n",
       "      <td>1</td>\n",
       "      <td>typical angina</td>\n",
       "      <td>more chance</td>\n",
       "      <td>161-180</td>\n",
       "      <td>40-50</td>\n",
       "    </tr>\n",
       "    <tr>\n",
       "      <th>3</th>\n",
       "      <td>56</td>\n",
       "      <td>1</td>\n",
       "      <td>1</td>\n",
       "      <td>120</td>\n",
       "      <td>236</td>\n",
       "      <td>0</td>\n",
       "      <td>1</td>\n",
       "      <td>178</td>\n",
       "      <td>0</td>\n",
       "      <td>0.8</td>\n",
       "      <td>2</td>\n",
       "      <td>0</td>\n",
       "      <td>2</td>\n",
       "      <td>1</td>\n",
       "      <td>typical angina</td>\n",
       "      <td>more chance</td>\n",
       "      <td>161-180</td>\n",
       "      <td>51-60</td>\n",
       "    </tr>\n",
       "    <tr>\n",
       "      <th>4</th>\n",
       "      <td>57</td>\n",
       "      <td>0</td>\n",
       "      <td>0</td>\n",
       "      <td>120</td>\n",
       "      <td>354</td>\n",
       "      <td>0</td>\n",
       "      <td>1</td>\n",
       "      <td>163</td>\n",
       "      <td>1</td>\n",
       "      <td>0.6</td>\n",
       "      <td>2</td>\n",
       "      <td>0</td>\n",
       "      <td>2</td>\n",
       "      <td>1</td>\n",
       "      <td>normal</td>\n",
       "      <td>more chance</td>\n",
       "      <td>161-180</td>\n",
       "      <td>51-60</td>\n",
       "    </tr>\n",
       "    <tr>\n",
       "      <th>...</th>\n",
       "      <td>...</td>\n",
       "      <td>...</td>\n",
       "      <td>...</td>\n",
       "      <td>...</td>\n",
       "      <td>...</td>\n",
       "      <td>...</td>\n",
       "      <td>...</td>\n",
       "      <td>...</td>\n",
       "      <td>...</td>\n",
       "      <td>...</td>\n",
       "      <td>...</td>\n",
       "      <td>...</td>\n",
       "      <td>...</td>\n",
       "      <td>...</td>\n",
       "      <td>...</td>\n",
       "      <td>...</td>\n",
       "      <td>...</td>\n",
       "      <td>...</td>\n",
       "    </tr>\n",
       "    <tr>\n",
       "      <th>298</th>\n",
       "      <td>57</td>\n",
       "      <td>0</td>\n",
       "      <td>0</td>\n",
       "      <td>140</td>\n",
       "      <td>241</td>\n",
       "      <td>0</td>\n",
       "      <td>1</td>\n",
       "      <td>123</td>\n",
       "      <td>1</td>\n",
       "      <td>0.2</td>\n",
       "      <td>1</td>\n",
       "      <td>0</td>\n",
       "      <td>3</td>\n",
       "      <td>0</td>\n",
       "      <td>normal</td>\n",
       "      <td>less chance</td>\n",
       "      <td>121-140</td>\n",
       "      <td>51-60</td>\n",
       "    </tr>\n",
       "    <tr>\n",
       "      <th>299</th>\n",
       "      <td>45</td>\n",
       "      <td>1</td>\n",
       "      <td>3</td>\n",
       "      <td>110</td>\n",
       "      <td>264</td>\n",
       "      <td>0</td>\n",
       "      <td>1</td>\n",
       "      <td>132</td>\n",
       "      <td>0</td>\n",
       "      <td>1.2</td>\n",
       "      <td>1</td>\n",
       "      <td>0</td>\n",
       "      <td>3</td>\n",
       "      <td>0</td>\n",
       "      <td>non-anginal pain</td>\n",
       "      <td>less chance</td>\n",
       "      <td>121-140</td>\n",
       "      <td>40-50</td>\n",
       "    </tr>\n",
       "    <tr>\n",
       "      <th>300</th>\n",
       "      <td>68</td>\n",
       "      <td>1</td>\n",
       "      <td>0</td>\n",
       "      <td>144</td>\n",
       "      <td>193</td>\n",
       "      <td>1</td>\n",
       "      <td>1</td>\n",
       "      <td>141</td>\n",
       "      <td>0</td>\n",
       "      <td>3.4</td>\n",
       "      <td>1</td>\n",
       "      <td>2</td>\n",
       "      <td>3</td>\n",
       "      <td>0</td>\n",
       "      <td>normal</td>\n",
       "      <td>less chance</td>\n",
       "      <td>141-160</td>\n",
       "      <td>66-70</td>\n",
       "    </tr>\n",
       "    <tr>\n",
       "      <th>301</th>\n",
       "      <td>57</td>\n",
       "      <td>1</td>\n",
       "      <td>0</td>\n",
       "      <td>130</td>\n",
       "      <td>131</td>\n",
       "      <td>0</td>\n",
       "      <td>1</td>\n",
       "      <td>115</td>\n",
       "      <td>1</td>\n",
       "      <td>1.2</td>\n",
       "      <td>1</td>\n",
       "      <td>1</td>\n",
       "      <td>3</td>\n",
       "      <td>0</td>\n",
       "      <td>normal</td>\n",
       "      <td>less chance</td>\n",
       "      <td>100-120</td>\n",
       "      <td>51-60</td>\n",
       "    </tr>\n",
       "    <tr>\n",
       "      <th>302</th>\n",
       "      <td>57</td>\n",
       "      <td>0</td>\n",
       "      <td>1</td>\n",
       "      <td>130</td>\n",
       "      <td>236</td>\n",
       "      <td>0</td>\n",
       "      <td>0</td>\n",
       "      <td>174</td>\n",
       "      <td>0</td>\n",
       "      <td>0.0</td>\n",
       "      <td>1</td>\n",
       "      <td>1</td>\n",
       "      <td>2</td>\n",
       "      <td>0</td>\n",
       "      <td>typical angina</td>\n",
       "      <td>less chance</td>\n",
       "      <td>161-180</td>\n",
       "      <td>51-60</td>\n",
       "    </tr>\n",
       "  </tbody>\n",
       "</table>\n",
       "<p>303 rows × 18 columns</p>\n",
       "</div>"
      ],
      "text/plain": [
       "     age  sex  chest_pain  resting_blood_pressure  cholestoral  \\\n",
       "0     63    1           3                     145          233   \n",
       "1     37    1           2                     130          250   \n",
       "2     41    0           1                     130          204   \n",
       "3     56    1           1                     120          236   \n",
       "4     57    0           0                     120          354   \n",
       "..   ...  ...         ...                     ...          ...   \n",
       "298   57    0           0                     140          241   \n",
       "299   45    1           3                     110          264   \n",
       "300   68    1           0                     144          193   \n",
       "301   57    1           0                     130          131   \n",
       "302   57    0           1                     130          236   \n",
       "\n",
       "     fasting_blood_sugar  resting_electrocardiographic  \\\n",
       "0                      1                             0   \n",
       "1                      0                             1   \n",
       "2                      0                             0   \n",
       "3                      0                             1   \n",
       "4                      0                             1   \n",
       "..                   ...                           ...   \n",
       "298                    0                             1   \n",
       "299                    0                             1   \n",
       "300                    1                             1   \n",
       "301                    0                             1   \n",
       "302                    0                             0   \n",
       "\n",
       "     maximum_heart_rate_achieved  exercise_induced_angina  previous_peak  slp  \\\n",
       "0                            150                        0            2.3    0   \n",
       "1                            187                        0            3.5    0   \n",
       "2                            172                        0            1.4    2   \n",
       "3                            178                        0            0.8    2   \n",
       "4                            163                        1            0.6    2   \n",
       "..                           ...                      ...            ...  ...   \n",
       "298                          123                        1            0.2    1   \n",
       "299                          132                        0            1.2    1   \n",
       "300                          141                        0            3.4    1   \n",
       "301                          115                        1            1.2    1   \n",
       "302                          174                        0            0.0    1   \n",
       "\n",
       "     number_major_vessels  thal_rate  output   chest_pain_desc  output_desc  \\\n",
       "0                       0          1       1  non-anginal pain  more chance   \n",
       "1                       0          2       1   atypical angina  more chance   \n",
       "2                       0          2       1    typical angina  more chance   \n",
       "3                       0          2       1    typical angina  more chance   \n",
       "4                       0          2       1            normal  more chance   \n",
       "..                    ...        ...     ...               ...          ...   \n",
       "298                     0          3       0            normal  less chance   \n",
       "299                     0          3       0  non-anginal pain  less chance   \n",
       "300                     2          3       0            normal  less chance   \n",
       "301                     1          3       0            normal  less chance   \n",
       "302                     1          2       0    typical angina  less chance   \n",
       "\n",
       "    heart_rate_desc age_desc  \n",
       "0           141-160    60-65  \n",
       "1           180-202    29-39  \n",
       "2           161-180    40-50  \n",
       "3           161-180    51-60  \n",
       "4           161-180    51-60  \n",
       "..              ...      ...  \n",
       "298         121-140    51-60  \n",
       "299         121-140    40-50  \n",
       "300         141-160    66-70  \n",
       "301         100-120    51-60  \n",
       "302         161-180    51-60  \n",
       "\n",
       "[303 rows x 18 columns]"
      ]
     },
     "execution_count": 13,
     "metadata": {},
     "output_type": "execute_result"
    }
   ],
   "source": [
    "#Hacemos un respaldo del dataset original para ocuparlo posteriormente en los análsis de normalidad y homogeneidad.\n",
    "df_heart_original = df_heart\n",
    "\n",
    "#Hacemos Join entre los datos \"raw\" con sus respectivos catalogos.\n",
    "#Data y tipo de dolor de pecho\n",
    "df_heart_chest_pain = pd.merge(df_heart, df_chest_pain_catalog, on=\"chest_pain\", how=\"left\")\n",
    "#Data resultante anterior y tipo de output\n",
    "df_heart_chest_final = pd.merge(df_heart_chest_pain, df_output_catalog, on=\"output\",  how=\"left\")\n",
    "#Data resultante anterior y ritmo cardiaco\n",
    "df_heart_heart_rate_final = pd.merge(df_heart_chest_final, df_output_heart_rate, on=\"maximum_heart_rate_achieved\",  how=\"left\")\n",
    "#Data resultante anterior y age\n",
    "df_heart_final = pd.merge(df_heart_heart_rate_final, df_output_age, on=\"age\", how=\"left\" )\n",
    "\n",
    "df_heart_final"
   ]
  },
  {
   "cell_type": "markdown",
   "id": "dcb43e8a",
   "metadata": {},
   "source": [
    "## Limpieza de los datos.\n",
    "\n",
    "* ¿Los datos contienen ceros o elementos vacíos? Gestiona cada uno de estos casos.\n",
    "* Identifica y gestiona los valores extremos."
   ]
  },
  {
   "cell_type": "markdown",
   "id": "b46fdd3c",
   "metadata": {},
   "source": [
    "Obtenemos el número de registro y las columnas que tienen datos nulos(NA)."
   ]
  },
  {
   "cell_type": "code",
   "execution_count": 14,
   "id": "42c22798",
   "metadata": {},
   "outputs": [
    {
     "data": {
      "text/plain": [
       "age                             0\n",
       "sex                             0\n",
       "chest_pain                      0\n",
       "resting_blood_pressure          0\n",
       "cholestoral                     0\n",
       "fasting_blood_sugar             0\n",
       "resting_electrocardiographic    0\n",
       "maximum_heart_rate_achieved     0\n",
       "exercise_induced_angina         0\n",
       "previous_peak                   0\n",
       "slp                             0\n",
       "number_major_vessels            0\n",
       "thal_rate                       0\n",
       "output                          0\n",
       "chest_pain_desc                 0\n",
       "output_desc                     0\n",
       "heart_rate_desc                 0\n",
       "age_desc                        0\n",
       "dtype: int64"
      ]
     },
     "execution_count": 14,
     "metadata": {},
     "output_type": "execute_result"
    }
   ],
   "source": [
    "df_heart_final.isnull().sum()"
   ]
  },
  {
   "cell_type": "markdown",
   "id": "5f9d23c4",
   "metadata": {},
   "source": [
    "No se encuentran valores nulos."
   ]
  },
  {
   "cell_type": "markdown",
   "id": "e50d3bfb",
   "metadata": {},
   "source": [
    "Identificamos los datos duplicados"
   ]
  },
  {
   "cell_type": "code",
   "execution_count": 15,
   "id": "f34591ce",
   "metadata": {},
   "outputs": [
    {
     "data": {
      "text/html": [
       "<div>\n",
       "<style scoped>\n",
       "    .dataframe tbody tr th:only-of-type {\n",
       "        vertical-align: middle;\n",
       "    }\n",
       "\n",
       "    .dataframe tbody tr th {\n",
       "        vertical-align: top;\n",
       "    }\n",
       "\n",
       "    .dataframe thead th {\n",
       "        text-align: right;\n",
       "    }\n",
       "</style>\n",
       "<table border=\"1\" class=\"dataframe\">\n",
       "  <thead>\n",
       "    <tr style=\"text-align: right;\">\n",
       "      <th></th>\n",
       "      <th>age</th>\n",
       "      <th>sex</th>\n",
       "      <th>chest_pain</th>\n",
       "      <th>resting_blood_pressure</th>\n",
       "      <th>cholestoral</th>\n",
       "      <th>fasting_blood_sugar</th>\n",
       "      <th>resting_electrocardiographic</th>\n",
       "      <th>maximum_heart_rate_achieved</th>\n",
       "      <th>exercise_induced_angina</th>\n",
       "      <th>previous_peak</th>\n",
       "      <th>slp</th>\n",
       "      <th>number_major_vessels</th>\n",
       "      <th>thal_rate</th>\n",
       "      <th>output</th>\n",
       "      <th>chest_pain_desc</th>\n",
       "      <th>output_desc</th>\n",
       "      <th>heart_rate_desc</th>\n",
       "      <th>age_desc</th>\n",
       "    </tr>\n",
       "  </thead>\n",
       "  <tbody>\n",
       "    <tr>\n",
       "      <th>164</th>\n",
       "      <td>38</td>\n",
       "      <td>1</td>\n",
       "      <td>2</td>\n",
       "      <td>138</td>\n",
       "      <td>175</td>\n",
       "      <td>0</td>\n",
       "      <td>1</td>\n",
       "      <td>173</td>\n",
       "      <td>0</td>\n",
       "      <td>0.0</td>\n",
       "      <td>2</td>\n",
       "      <td>4</td>\n",
       "      <td>2</td>\n",
       "      <td>1</td>\n",
       "      <td>atypical angina</td>\n",
       "      <td>more chance</td>\n",
       "      <td>161-180</td>\n",
       "      <td>29-39</td>\n",
       "    </tr>\n",
       "  </tbody>\n",
       "</table>\n",
       "</div>"
      ],
      "text/plain": [
       "     age  sex  chest_pain  resting_blood_pressure  cholestoral  \\\n",
       "164   38    1           2                     138          175   \n",
       "\n",
       "     fasting_blood_sugar  resting_electrocardiographic  \\\n",
       "164                    0                             1   \n",
       "\n",
       "     maximum_heart_rate_achieved  exercise_induced_angina  previous_peak  slp  \\\n",
       "164                          173                        0            0.0    2   \n",
       "\n",
       "     number_major_vessels  thal_rate  output  chest_pain_desc  output_desc  \\\n",
       "164                     4          2       1  atypical angina  more chance   \n",
       "\n",
       "    heart_rate_desc age_desc  \n",
       "164         161-180    29-39  "
      ]
     },
     "execution_count": 15,
     "metadata": {},
     "output_type": "execute_result"
    }
   ],
   "source": [
    "df_heart_final[df_heart_final.duplicated()]"
   ]
  },
  {
   "cell_type": "markdown",
   "id": "7df39a80",
   "metadata": {},
   "source": [
    "Se procede con la limpieza de los duplicados."
   ]
  },
  {
   "cell_type": "code",
   "execution_count": 16,
   "id": "9d3ce34e",
   "metadata": {},
   "outputs": [],
   "source": [
    "df_heart_final.drop_duplicates(inplace=True)"
   ]
  },
  {
   "cell_type": "markdown",
   "id": "1d73e323",
   "metadata": {},
   "source": [
    "Comenzamos a revisar los outliers"
   ]
  },
  {
   "cell_type": "code",
   "execution_count": 17,
   "id": "225e3053",
   "metadata": {},
   "outputs": [
    {
     "data": {
      "text/plain": [
       "Text(0.5, 0, 'age')"
      ]
     },
     "execution_count": 17,
     "metadata": {},
     "output_type": "execute_result"
    },
    {
     "data": {
      "image/png": "[encoded data removed]",
      "text/plain": [
       "<Figure size 720x360 with 1 Axes>"
      ]
     },
     "metadata": {
      "needs_background": "light"
     },
     "output_type": "display_data"
    }
   ],
   "source": [
    "plt.figure(figsize=[10, 5])\n",
    "sns.boxplot(data=df_heart_final, x=\"output_desc\", y=\"age\");\n",
    "plt.title(\"Outliers output_desc by age\", fontsize = 12)\n",
    "plt.ylabel(\"count\", fontsize = 10)\n",
    "plt.xlabel(\"age\", fontsize = 10)"
   ]
  },
  {
   "cell_type": "markdown",
   "id": "75f64361",
   "metadata": {},
   "source": [
    "Aunque no es una cantidad grande, este outlier lo gestionamos creando la columna en el catalogo de *\"age\"* y agregando la columna a nuestro dataframe final con el nombre de *\"age_desc\"*"
   ]
  },
  {
   "cell_type": "code",
   "execution_count": 18,
   "id": "3eceba67",
   "metadata": {},
   "outputs": [
    {
     "data": {
      "text/plain": [
       "Text(0.5, 0, 'age_desc')"
      ]
     },
     "execution_count": 18,
     "metadata": {},
     "output_type": "execute_result"
    },
    {
     "data": {
      "image/png": "[encoded data removed]",
      "text/plain": [
       "<Figure size 720x360 with 1 Axes>"
      ]
     },
     "metadata": {
      "needs_background": "light"
     },
     "output_type": "display_data"
    }
   ],
   "source": [
    "plt.figure(figsize=[10, 5])\n",
    "#sns.countplot(x=df_heart_final.output_desc, hue=df_heart_final[\"age_desc\"])\n",
    "sns.boxplot(data=df_heart_final, x=\"output_desc\", y=\"maximum_heart_rate_achieved\");\n",
    "plt.title(\"Outliers output_desc by maximum_heart_rate_achieved\", fontsize = 12)\n",
    "plt.ylabel(\"count\", fontsize = 10)\n",
    "plt.xlabel(\"age_desc\", fontsize = 10)"
   ]
  },
  {
   "cell_type": "markdown",
   "id": "8a1965dd",
   "metadata": {},
   "source": [
    "## 4. Análisis de los datos.\n",
    "* Selección de los grupos de datos que se quieren analizar/comparar (p. ej., si se van a comparar grupos de datos, ¿cuáles son estos grupos y qué tipo de análisis se van a aplicar?)\n",
    "* Comprobación de la normalidad y homogeneidad de la varianza.\n",
    "* Aplicación de pruebas estadísticas para comparar los grupos de datos.\n",
    "* En función de los datos y el objetivo del estudio, aplicar pruebas de contraste de hipótesis, correlaciones, regresiones, etc. Aplicar al menos tres métodos de análisis diferentes."
   ]
  },
  {
   "cell_type": "markdown",
   "id": "e400ae51",
   "metadata": {},
   "source": [
    "Comenzamos con un **análsis de correlación** para ver la asociación que tenemos en las variables de nuestro dataframe unificado *df_heart_final*\n",
    "\n",
    "Se van a generar valores entre -1 y 1, donde los extremos indican una\n",
    "correlación perfecta y el 0 indica la ausencia de correlación."
   ]
  },
  {
   "cell_type": "code",
   "execution_count": 19,
   "id": "221717f9",
   "metadata": {},
   "outputs": [
    {
     "data": {
      "text/html": [
       "<div>\n",
       "<style scoped>\n",
       "    .dataframe tbody tr th:only-of-type {\n",
       "        vertical-align: middle;\n",
       "    }\n",
       "\n",
       "    .dataframe tbody tr th {\n",
       "        vertical-align: top;\n",
       "    }\n",
       "\n",
       "    .dataframe thead th {\n",
       "        text-align: right;\n",
       "    }\n",
       "</style>\n",
       "<table border=\"1\" class=\"dataframe\">\n",
       "  <thead>\n",
       "    <tr style=\"text-align: right;\">\n",
       "      <th></th>\n",
       "      <th>age</th>\n",
       "      <th>sex</th>\n",
       "      <th>chest_pain</th>\n",
       "      <th>resting_blood_pressure</th>\n",
       "      <th>cholestoral</th>\n",
       "      <th>fasting_blood_sugar</th>\n",
       "      <th>resting_electrocardiographic</th>\n",
       "      <th>maximum_heart_rate_achieved</th>\n",
       "      <th>exercise_induced_angina</th>\n",
       "      <th>previous_peak</th>\n",
       "      <th>slp</th>\n",
       "      <th>number_major_vessels</th>\n",
       "      <th>thal_rate</th>\n",
       "      <th>output</th>\n",
       "    </tr>\n",
       "  </thead>\n",
       "  <tbody>\n",
       "    <tr>\n",
       "      <th>age</th>\n",
       "      <td>1.000000</td>\n",
       "      <td>-0.094962</td>\n",
       "      <td>-0.063107</td>\n",
       "      <td>0.283121</td>\n",
       "      <td>0.207216</td>\n",
       "      <td>0.119492</td>\n",
       "      <td>-0.111590</td>\n",
       "      <td>-0.395235</td>\n",
       "      <td>0.093216</td>\n",
       "      <td>0.206040</td>\n",
       "      <td>-0.164124</td>\n",
       "      <td>0.302261</td>\n",
       "      <td>0.065317</td>\n",
       "      <td>-0.221476</td>\n",
       "    </tr>\n",
       "    <tr>\n",
       "      <th>sex</th>\n",
       "      <td>-0.094962</td>\n",
       "      <td>1.000000</td>\n",
       "      <td>-0.051740</td>\n",
       "      <td>-0.057647</td>\n",
       "      <td>-0.195571</td>\n",
       "      <td>0.046022</td>\n",
       "      <td>-0.060351</td>\n",
       "      <td>-0.046439</td>\n",
       "      <td>0.143460</td>\n",
       "      <td>0.098322</td>\n",
       "      <td>-0.032990</td>\n",
       "      <td>0.113060</td>\n",
       "      <td>0.211452</td>\n",
       "      <td>-0.283609</td>\n",
       "    </tr>\n",
       "    <tr>\n",
       "      <th>chest_pain</th>\n",
       "      <td>-0.063107</td>\n",
       "      <td>-0.051740</td>\n",
       "      <td>1.000000</td>\n",
       "      <td>0.046486</td>\n",
       "      <td>-0.072682</td>\n",
       "      <td>0.096018</td>\n",
       "      <td>0.041561</td>\n",
       "      <td>0.293367</td>\n",
       "      <td>-0.392937</td>\n",
       "      <td>-0.146692</td>\n",
       "      <td>0.116854</td>\n",
       "      <td>-0.195356</td>\n",
       "      <td>-0.160370</td>\n",
       "      <td>0.432080</td>\n",
       "    </tr>\n",
       "    <tr>\n",
       "      <th>resting_blood_pressure</th>\n",
       "      <td>0.283121</td>\n",
       "      <td>-0.057647</td>\n",
       "      <td>0.046486</td>\n",
       "      <td>1.000000</td>\n",
       "      <td>0.125256</td>\n",
       "      <td>0.178125</td>\n",
       "      <td>-0.115367</td>\n",
       "      <td>-0.048023</td>\n",
       "      <td>0.068526</td>\n",
       "      <td>0.194600</td>\n",
       "      <td>-0.122873</td>\n",
       "      <td>0.099248</td>\n",
       "      <td>0.062870</td>\n",
       "      <td>-0.146269</td>\n",
       "    </tr>\n",
       "    <tr>\n",
       "      <th>cholestoral</th>\n",
       "      <td>0.207216</td>\n",
       "      <td>-0.195571</td>\n",
       "      <td>-0.072682</td>\n",
       "      <td>0.125256</td>\n",
       "      <td>1.000000</td>\n",
       "      <td>0.011428</td>\n",
       "      <td>-0.147602</td>\n",
       "      <td>-0.005308</td>\n",
       "      <td>0.064099</td>\n",
       "      <td>0.050086</td>\n",
       "      <td>0.000417</td>\n",
       "      <td>0.086878</td>\n",
       "      <td>0.096810</td>\n",
       "      <td>-0.081437</td>\n",
       "    </tr>\n",
       "    <tr>\n",
       "      <th>fasting_blood_sugar</th>\n",
       "      <td>0.119492</td>\n",
       "      <td>0.046022</td>\n",
       "      <td>0.096018</td>\n",
       "      <td>0.178125</td>\n",
       "      <td>0.011428</td>\n",
       "      <td>1.000000</td>\n",
       "      <td>-0.083081</td>\n",
       "      <td>-0.007169</td>\n",
       "      <td>0.024729</td>\n",
       "      <td>0.004514</td>\n",
       "      <td>-0.058654</td>\n",
       "      <td>0.144935</td>\n",
       "      <td>-0.032752</td>\n",
       "      <td>-0.026826</td>\n",
       "    </tr>\n",
       "    <tr>\n",
       "      <th>resting_electrocardiographic</th>\n",
       "      <td>-0.111590</td>\n",
       "      <td>-0.060351</td>\n",
       "      <td>0.041561</td>\n",
       "      <td>-0.115367</td>\n",
       "      <td>-0.147602</td>\n",
       "      <td>-0.083081</td>\n",
       "      <td>1.000000</td>\n",
       "      <td>0.041210</td>\n",
       "      <td>-0.068807</td>\n",
       "      <td>-0.056251</td>\n",
       "      <td>0.090402</td>\n",
       "      <td>-0.083112</td>\n",
       "      <td>-0.010473</td>\n",
       "      <td>0.134874</td>\n",
       "    </tr>\n",
       "    <tr>\n",
       "      <th>maximum_heart_rate_achieved</th>\n",
       "      <td>-0.395235</td>\n",
       "      <td>-0.046439</td>\n",
       "      <td>0.293367</td>\n",
       "      <td>-0.048023</td>\n",
       "      <td>-0.005308</td>\n",
       "      <td>-0.007169</td>\n",
       "      <td>0.041210</td>\n",
       "      <td>1.000000</td>\n",
       "      <td>-0.377411</td>\n",
       "      <td>-0.342201</td>\n",
       "      <td>0.384754</td>\n",
       "      <td>-0.228311</td>\n",
       "      <td>-0.094910</td>\n",
       "      <td>0.419955</td>\n",
       "    </tr>\n",
       "    <tr>\n",
       "      <th>exercise_induced_angina</th>\n",
       "      <td>0.093216</td>\n",
       "      <td>0.143460</td>\n",
       "      <td>-0.392937</td>\n",
       "      <td>0.068526</td>\n",
       "      <td>0.064099</td>\n",
       "      <td>0.024729</td>\n",
       "      <td>-0.068807</td>\n",
       "      <td>-0.377411</td>\n",
       "      <td>1.000000</td>\n",
       "      <td>0.286766</td>\n",
       "      <td>-0.256106</td>\n",
       "      <td>0.125377</td>\n",
       "      <td>0.205826</td>\n",
       "      <td>-0.435601</td>\n",
       "    </tr>\n",
       "    <tr>\n",
       "      <th>previous_peak</th>\n",
       "      <td>0.206040</td>\n",
       "      <td>0.098322</td>\n",
       "      <td>-0.146692</td>\n",
       "      <td>0.194600</td>\n",
       "      <td>0.050086</td>\n",
       "      <td>0.004514</td>\n",
       "      <td>-0.056251</td>\n",
       "      <td>-0.342201</td>\n",
       "      <td>0.286766</td>\n",
       "      <td>1.000000</td>\n",
       "      <td>-0.576314</td>\n",
       "      <td>0.236560</td>\n",
       "      <td>0.209090</td>\n",
       "      <td>-0.429146</td>\n",
       "    </tr>\n",
       "    <tr>\n",
       "      <th>slp</th>\n",
       "      <td>-0.164124</td>\n",
       "      <td>-0.032990</td>\n",
       "      <td>0.116854</td>\n",
       "      <td>-0.122873</td>\n",
       "      <td>0.000417</td>\n",
       "      <td>-0.058654</td>\n",
       "      <td>0.090402</td>\n",
       "      <td>0.384754</td>\n",
       "      <td>-0.256106</td>\n",
       "      <td>-0.576314</td>\n",
       "      <td>1.000000</td>\n",
       "      <td>-0.092236</td>\n",
       "      <td>-0.103314</td>\n",
       "      <td>0.343940</td>\n",
       "    </tr>\n",
       "    <tr>\n",
       "      <th>number_major_vessels</th>\n",
       "      <td>0.302261</td>\n",
       "      <td>0.113060</td>\n",
       "      <td>-0.195356</td>\n",
       "      <td>0.099248</td>\n",
       "      <td>0.086878</td>\n",
       "      <td>0.144935</td>\n",
       "      <td>-0.083112</td>\n",
       "      <td>-0.228311</td>\n",
       "      <td>0.125377</td>\n",
       "      <td>0.236560</td>\n",
       "      <td>-0.092236</td>\n",
       "      <td>1.000000</td>\n",
       "      <td>0.160085</td>\n",
       "      <td>-0.408992</td>\n",
       "    </tr>\n",
       "    <tr>\n",
       "      <th>thal_rate</th>\n",
       "      <td>0.065317</td>\n",
       "      <td>0.211452</td>\n",
       "      <td>-0.160370</td>\n",
       "      <td>0.062870</td>\n",
       "      <td>0.096810</td>\n",
       "      <td>-0.032752</td>\n",
       "      <td>-0.010473</td>\n",
       "      <td>-0.094910</td>\n",
       "      <td>0.205826</td>\n",
       "      <td>0.209090</td>\n",
       "      <td>-0.103314</td>\n",
       "      <td>0.160085</td>\n",
       "      <td>1.000000</td>\n",
       "      <td>-0.343101</td>\n",
       "    </tr>\n",
       "    <tr>\n",
       "      <th>output</th>\n",
       "      <td>-0.221476</td>\n",
       "      <td>-0.283609</td>\n",
       "      <td>0.432080</td>\n",
       "      <td>-0.146269</td>\n",
       "      <td>-0.081437</td>\n",
       "      <td>-0.026826</td>\n",
       "      <td>0.134874</td>\n",
       "      <td>0.419955</td>\n",
       "      <td>-0.435601</td>\n",
       "      <td>-0.429146</td>\n",
       "      <td>0.343940</td>\n",
       "      <td>-0.408992</td>\n",
       "      <td>-0.343101</td>\n",
       "      <td>1.000000</td>\n",
       "    </tr>\n",
       "  </tbody>\n",
       "</table>\n",
       "</div>"
      ],
      "text/plain": [
       "                                   age       sex  chest_pain  \\\n",
       "age                           1.000000 -0.094962   -0.063107   \n",
       "sex                          -0.094962  1.000000   -0.051740   \n",
       "chest_pain                   -0.063107 -0.051740    1.000000   \n",
       "resting_blood_pressure        0.283121 -0.057647    0.046486   \n",
       "cholestoral                   0.207216 -0.195571   -0.072682   \n",
       "fasting_blood_sugar           0.119492  0.046022    0.096018   \n",
       "resting_electrocardiographic -0.111590 -0.060351    0.041561   \n",
       "maximum_heart_rate_achieved  -0.395235 -0.046439    0.293367   \n",
       "exercise_induced_angina       0.093216  0.143460   -0.392937   \n",
       "previous_peak                 0.206040  0.098322   -0.146692   \n",
       "slp                          -0.164124 -0.032990    0.116854   \n",
       "number_major_vessels          0.302261  0.113060   -0.195356   \n",
       "thal_rate                     0.065317  0.211452   -0.160370   \n",
       "output                       -0.221476 -0.283609    0.432080   \n",
       "\n",
       "                              resting_blood_pressure  cholestoral  \\\n",
       "age                                         0.283121     0.207216   \n",
       "sex                                        -0.057647    -0.195571   \n",
       "chest_pain                                  0.046486    -0.072682   \n",
       "resting_blood_pressure                      1.000000     0.125256   \n",
       "cholestoral                                 0.125256     1.000000   \n",
       "fasting_blood_sugar                         0.178125     0.011428   \n",
       "resting_electrocardiographic               -0.115367    -0.147602   \n",
       "maximum_heart_rate_achieved                -0.048023    -0.005308   \n",
       "exercise_induced_angina                     0.068526     0.064099   \n",
       "previous_peak                               0.194600     0.050086   \n",
       "slp                                        -0.122873     0.000417   \n",
       "number_major_vessels                        0.099248     0.086878   \n",
       "thal_rate                                   0.062870     0.096810   \n",
       "output                                     -0.146269    -0.081437   \n",
       "\n",
       "                              fasting_blood_sugar  \\\n",
       "age                                      0.119492   \n",
       "sex                                      0.046022   \n",
       "chest_pain                               0.096018   \n",
       "resting_blood_pressure                   0.178125   \n",
       "cholestoral                              0.011428   \n",
       "fasting_blood_sugar                      1.000000   \n",
       "resting_electrocardiographic            -0.083081   \n",
       "maximum_heart_rate_achieved             -0.007169   \n",
       "exercise_induced_angina                  0.024729   \n",
       "previous_peak                            0.004514   \n",
       "slp                                     -0.058654   \n",
       "number_major_vessels                     0.144935   \n",
       "thal_rate                               -0.032752   \n",
       "output                                  -0.026826   \n",
       "\n",
       "                              resting_electrocardiographic  \\\n",
       "age                                              -0.111590   \n",
       "sex                                              -0.060351   \n",
       "chest_pain                                        0.041561   \n",
       "resting_blood_pressure                           -0.115367   \n",
       "cholestoral                                      -0.147602   \n",
       "fasting_blood_sugar                              -0.083081   \n",
       "resting_electrocardiographic                      1.000000   \n",
       "maximum_heart_rate_achieved                       0.041210   \n",
       "exercise_induced_angina                          -0.068807   \n",
       "previous_peak                                    -0.056251   \n",
       "slp                                               0.090402   \n",
       "number_major_vessels                             -0.083112   \n",
       "thal_rate                                        -0.010473   \n",
       "output                                            0.134874   \n",
       "\n",
       "                              maximum_heart_rate_achieved  \\\n",
       "age                                             -0.395235   \n",
       "sex                                             -0.046439   \n",
       "chest_pain                                       0.293367   \n",
       "resting_blood_pressure                          -0.048023   \n",
       "cholestoral                                     -0.005308   \n",
       "fasting_blood_sugar                             -0.007169   \n",
       "resting_electrocardiographic                     0.041210   \n",
       "maximum_heart_rate_achieved                      1.000000   \n",
       "exercise_induced_angina                         -0.377411   \n",
       "previous_peak                                   -0.342201   \n",
       "slp                                              0.384754   \n",
       "number_major_vessels                            -0.228311   \n",
       "thal_rate                                       -0.094910   \n",
       "output                                           0.419955   \n",
       "\n",
       "                              exercise_induced_angina  previous_peak  \\\n",
       "age                                          0.093216       0.206040   \n",
       "sex                                          0.143460       0.098322   \n",
       "chest_pain                                  -0.392937      -0.146692   \n",
       "resting_blood_pressure                       0.068526       0.194600   \n",
       "cholestoral                                  0.064099       0.050086   \n",
       "fasting_blood_sugar                          0.024729       0.004514   \n",
       "resting_electrocardiographic                -0.068807      -0.056251   \n",
       "maximum_heart_rate_achieved                 -0.377411      -0.342201   \n",
       "exercise_induced_angina                      1.000000       0.286766   \n",
       "previous_peak                                0.286766       1.000000   \n",
       "slp                                         -0.256106      -0.576314   \n",
       "number_major_vessels                         0.125377       0.236560   \n",
       "thal_rate                                    0.205826       0.209090   \n",
       "output                                      -0.435601      -0.429146   \n",
       "\n",
       "                                   slp  number_major_vessels  thal_rate  \\\n",
       "age                          -0.164124              0.302261   0.065317   \n",
       "sex                          -0.032990              0.113060   0.211452   \n",
       "chest_pain                    0.116854             -0.195356  -0.160370   \n",
       "resting_blood_pressure       -0.122873              0.099248   0.062870   \n",
       "cholestoral                   0.000417              0.086878   0.096810   \n",
       "fasting_blood_sugar          -0.058654              0.144935  -0.032752   \n",
       "resting_electrocardiographic  0.090402             -0.083112  -0.010473   \n",
       "maximum_heart_rate_achieved   0.384754             -0.228311  -0.094910   \n",
       "exercise_induced_angina      -0.256106              0.125377   0.205826   \n",
       "previous_peak                -0.576314              0.236560   0.209090   \n",
       "slp                           1.000000             -0.092236  -0.103314   \n",
       "number_major_vessels         -0.092236              1.000000   0.160085   \n",
       "thal_rate                    -0.103314              0.160085   1.000000   \n",
       "output                        0.343940             -0.408992  -0.343101   \n",
       "\n",
       "                                output  \n",
       "age                          -0.221476  \n",
       "sex                          -0.283609  \n",
       "chest_pain                    0.432080  \n",
       "resting_blood_pressure       -0.146269  \n",
       "cholestoral                  -0.081437  \n",
       "fasting_blood_sugar          -0.026826  \n",
       "resting_electrocardiographic  0.134874  \n",
       "maximum_heart_rate_achieved   0.419955  \n",
       "exercise_induced_angina      -0.435601  \n",
       "previous_peak                -0.429146  \n",
       "slp                           0.343940  \n",
       "number_major_vessels         -0.408992  \n",
       "thal_rate                    -0.343101  \n",
       "output                        1.000000  "
      ]
     },
     "execution_count": 19,
     "metadata": {},
     "output_type": "execute_result"
    }
   ],
   "source": [
    "#Analisis de correlación\n",
    "df_heart_final.corr()"
   ]
  },
  {
   "cell_type": "code",
   "execution_count": 20,
   "id": "0c91b086",
   "metadata": {
    "scrolled": true
   },
   "outputs": [
    {
     "data": {
      "text/plain": [
       "<AxesSubplot:>"
      ]
     },
     "execution_count": 20,
     "metadata": {},
     "output_type": "execute_result"
    },
    {
     "data": {
      "image/png": "[encoded data removed]",
      "text/plain": [
       "<Figure size 1440x1080 with 2 Axes>"
      ]
     },
     "metadata": {
      "needs_background": "light"
     },
     "output_type": "display_data"
    }
   ],
   "source": [
    "plt.subplots(figsize=(20,15))\n",
    "sns.heatmap(df_heart_final.corr(), annot=True)"
   ]
  },
  {
   "cell_type": "markdown",
   "id": "4a26adce",
   "metadata": {},
   "source": [
    "Observamos que la columna *output esta mas correlacionada con chest_pain, maxium_heart_rate_achieved and spl*\n",
    "\n",
    "Por lo que nos vamos a enfocar en estas columnas para dar respuesta a nuestro objetivo planteado en el **punto 1**, al principio de este documento. "
   ]
  },
  {
   "cell_type": "markdown",
   "id": "d38f18f2",
   "metadata": {},
   "source": [
    "Generamos un gráfico para conocer la distribución del número de casos donde hay mas posibilidad que se presenten infartos."
   ]
  },
  {
   "cell_type": "code",
   "execution_count": 21,
   "id": "74ea8b4d",
   "metadata": {},
   "outputs": [
    {
     "data": {
      "text/plain": [
       "<AxesSubplot:xlabel='output_desc', ylabel='count'>"
      ]
     },
     "execution_count": 21,
     "metadata": {},
     "output_type": "execute_result"
    },
    {
     "data": {
      "image/png": "[encoded data removed]",
      "text/plain": [
       "<Figure size 720x360 with 1 Axes>"
      ]
     },
     "metadata": {
      "needs_background": "light"
     },
     "output_type": "display_data"
    }
   ],
   "source": [
    "plt.figure(figsize=[10, 5])\n",
    "plt.ylabel(\"count\", fontsize = 10)\n",
    "plt.xlabel(\"output_desc\", fontsize = 10)\n",
    "\n",
    "sns.countplot(x=df_heart_final.output_desc)"
   ]
  },
  {
   "cell_type": "markdown",
   "id": "bf440c77",
   "metadata": {},
   "source": [
    "Utilizamos la columna chest_pain_desc para saber la distribución del número de casos con respecto a la columna ouput_desc. Cabe aclarar que ouput_desc tiene su origen en output, por lo que:\n",
    "\n",
    "* output 0 = less chance of heart attack \n",
    "* output 1 = more chance of heart attack"
   ]
  },
  {
   "cell_type": "code",
   "execution_count": 22,
   "id": "ba0f173c",
   "metadata": {},
   "outputs": [
    {
     "data": {
      "text/plain": [
       "Text(0.5, 0, 'chest_pain_desc')"
      ]
     },
     "execution_count": 22,
     "metadata": {},
     "output_type": "execute_result"
    },
    {
     "data": {
      "image/png": "[encoded data removed]",
      "text/plain": [
       "<Figure size 720x360 with 1 Axes>"
      ]
     },
     "metadata": {
      "needs_background": "light"
     },
     "output_type": "display_data"
    }
   ],
   "source": [
    "plt.figure(figsize=[10, 5])\n",
    "sns.countplot(x=df_heart_final.output_desc, hue=df_heart_final[\"chest_pain_desc\"])\n",
    "plt.title(\"output_desc by chest_pain_desc\", fontsize = 12)\n",
    "plt.ylabel(\"count\", fontsize = 10)\n",
    "plt.xlabel(\"chest_pain_desc\", fontsize = 10)"
   ]
  },
  {
   "cell_type": "markdown",
   "id": "c603f889",
   "metadata": {},
   "source": [
    "Como se puede observar, el tipo de dolor de pecho *atypical angina*, es donde hay mas posibilidad de que haya un infarto."
   ]
  },
  {
   "cell_type": "markdown",
   "id": "2b154cc8",
   "metadata": {},
   "source": [
    "Ahora vamos a observar como influye la edad en la probabilidad de que haya infartos. Este gráfico lo dividimos en 2 para probar la reducción de cantidad y discretización.\n",
    "\n",
    "Utiizando la columna *age*, los gráficos son dificiles de leer."
   ]
  },
  {
   "cell_type": "code",
   "execution_count": 23,
   "id": "84c13767",
   "metadata": {},
   "outputs": [
    {
     "data": {
      "text/plain": [
       "Text(0.5, 0, 'age')"
      ]
     },
     "execution_count": 23,
     "metadata": {},
     "output_type": "execute_result"
    },
    {
     "data": {
      "image/png": "[encoded data removed]",
      "text/plain": [
       "<Figure size 720x360 with 1 Axes>"
      ]
     },
     "metadata": {
      "needs_background": "light"
     },
     "output_type": "display_data"
    }
   ],
   "source": [
    "plt.figure(figsize=[10, 5])\n",
    "sns.countplot(x=df_heart_final.output_desc, hue=df_heart_final[\"age\"])\n",
    "plt.title(\"output_desc by age\", fontsize = 12)\n",
    "plt.ylabel(\"count\", fontsize = 10)\n",
    "plt.xlabel(\"age\", fontsize = 10)"
   ]
  },
  {
   "cell_type": "markdown",
   "id": "f3b452e2",
   "metadata": {},
   "source": [
    "En cambio, cuando utilzamos el campo donde agrupamos las edades, se tiene mejor lectura de los datos por medio del gráfico."
   ]
  },
  {
   "cell_type": "code",
   "execution_count": 24,
   "id": "666c8c98",
   "metadata": {},
   "outputs": [
    {
     "data": {
      "text/plain": [
       "Text(0.5, 0, 'age_desc')"
      ]
     },
     "execution_count": 24,
     "metadata": {},
     "output_type": "execute_result"
    },
    {
     "data": {
      "image/png": "[encoded data removed]",
      "text/plain": [
       "<Figure size 720x360 with 1 Axes>"
      ]
     },
     "metadata": {
      "needs_background": "light"
     },
     "output_type": "display_data"
    }
   ],
   "source": [
    "plt.figure(figsize=[10, 5])\n",
    "sns.countplot(x=df_heart_final.output_desc, hue=df_heart_final[\"age_desc\"])\n",
    "plt.title(\"output_desc by age_desc\", fontsize = 12)\n",
    "plt.ylabel(\"count\", fontsize = 10)\n",
    "plt.xlabel(\"age_desc\", fontsize = 10)"
   ]
  },
  {
   "cell_type": "markdown",
   "id": "f7b5e08a",
   "metadata": {},
   "source": [
    "Vemos que a partir de los 40 años, tomando en cuenta ambos sexos, crecen la posibilidad de sufrir un infarto."
   ]
  },
  {
   "cell_type": "code",
   "execution_count": 25,
   "id": "85286006",
   "metadata": {},
   "outputs": [
    {
     "data": {
      "text/plain": [
       "Text(0.5, 0, 'heart_rate_desc')"
      ]
     },
     "execution_count": 25,
     "metadata": {},
     "output_type": "execute_result"
    },
    {
     "data": {
      "image/png": "[encoded data removed]",
      "text/plain": [
       "<Figure size 720x360 with 1 Axes>"
      ]
     },
     "metadata": {
      "needs_background": "light"
     },
     "output_type": "display_data"
    }
   ],
   "source": [
    "plt.figure(figsize=[10, 5])\n",
    "sns.countplot(x=df_heart_final.output_desc, hue=df_heart_final[\"heart_rate_desc\"])\n",
    "plt.title(\"output_desc by heart_rate_desc\", fontsize = 12)\n",
    "plt.ylabel(\"count\", fontsize = 10)\n",
    "plt.xlabel(\"heart_rate_desc\", fontsize = 10)"
   ]
  },
  {
   "cell_type": "markdown",
   "id": "743e1061",
   "metadata": {},
   "source": [
    "Con este gráfico vemos que a partir del ritmo cardiaco de 140, la probabilidad de un infarto aumenta de forma considerable."
   ]
  },
  {
   "cell_type": "markdown",
   "id": "9d3b46f7",
   "metadata": {},
   "source": [
    "**Regresión logística**"
   ]
  },
  {
   "cell_type": "code",
   "execution_count": 26,
   "id": "69b626cf",
   "metadata": {},
   "outputs": [],
   "source": [
    "X = df_heart_original.drop(\"output\", axis=1)\n",
    "y = df_heart[\"output\"]"
   ]
  },
  {
   "cell_type": "code",
   "execution_count": 27,
   "id": "abb5aaf0",
   "metadata": {},
   "outputs": [],
   "source": [
    "X_train, X_test, y_train, y_test = train_test_split(X, y, test_size=.2, random_state=42)"
   ]
  },
  {
   "cell_type": "code",
   "execution_count": 28,
   "id": "149b4e43",
   "metadata": {},
   "outputs": [],
   "source": [
    "model_heart_attack = LogisticRegression(max_iter=1000)"
   ]
  },
  {
   "cell_type": "code",
   "execution_count": 29,
   "id": "218481a5",
   "metadata": {},
   "outputs": [
    {
     "data": {
      "text/plain": [
       "LogisticRegression(max_iter=1000)"
      ]
     },
     "execution_count": 29,
     "metadata": {},
     "output_type": "execute_result"
    }
   ],
   "source": [
    "model_heart_attack.fit(X_train, y_train)"
   ]
  },
  {
   "cell_type": "code",
   "execution_count": 30,
   "id": "63bc3b63",
   "metadata": {},
   "outputs": [
    {
     "data": {
      "text/plain": [
       "0.8636363636363636"
      ]
     },
     "execution_count": 30,
     "metadata": {},
     "output_type": "execute_result"
    }
   ],
   "source": [
    "#Traning Accuracy\n",
    "model_heart_attack.score(X_train, y_train)"
   ]
  },
  {
   "cell_type": "code",
   "execution_count": 31,
   "id": "58b0edbb",
   "metadata": {},
   "outputs": [
    {
     "data": {
      "text/plain": [
       "0.8524590163934426"
      ]
     },
     "execution_count": 31,
     "metadata": {},
     "output_type": "execute_result"
    }
   ],
   "source": [
    "#Test Accuracy\n",
    "model_heart_attack.score(X_test, y_test)"
   ]
  },
  {
   "cell_type": "code",
   "execution_count": 32,
   "id": "59aef032",
   "metadata": {},
   "outputs": [
    {
     "data": {
      "text/html": [
       "<div>\n",
       "<style scoped>\n",
       "    .dataframe tbody tr th:only-of-type {\n",
       "        vertical-align: middle;\n",
       "    }\n",
       "\n",
       "    .dataframe tbody tr th {\n",
       "        vertical-align: top;\n",
       "    }\n",
       "\n",
       "    .dataframe thead th {\n",
       "        text-align: right;\n",
       "    }\n",
       "</style>\n",
       "<table border=\"1\" class=\"dataframe\">\n",
       "  <thead>\n",
       "    <tr style=\"text-align: right;\">\n",
       "      <th></th>\n",
       "      <th>age</th>\n",
       "      <th>sex</th>\n",
       "      <th>chest_pain</th>\n",
       "      <th>resting_blood_pressure</th>\n",
       "      <th>cholestoral</th>\n",
       "      <th>fasting_blood_sugar</th>\n",
       "      <th>resting_electrocardiographic</th>\n",
       "      <th>maximum_heart_rate_achieved</th>\n",
       "      <th>exercise_induced_angina</th>\n",
       "      <th>previous_peak</th>\n",
       "      <th>slp</th>\n",
       "      <th>number_major_vessels</th>\n",
       "      <th>thal_rate</th>\n",
       "    </tr>\n",
       "  </thead>\n",
       "  <tbody>\n",
       "    <tr>\n",
       "      <th>179</th>\n",
       "      <td>57</td>\n",
       "      <td>1</td>\n",
       "      <td>0</td>\n",
       "      <td>150</td>\n",
       "      <td>276</td>\n",
       "      <td>0</td>\n",
       "      <td>0</td>\n",
       "      <td>112</td>\n",
       "      <td>1</td>\n",
       "      <td>0.6</td>\n",
       "      <td>1</td>\n",
       "      <td>1</td>\n",
       "      <td>1</td>\n",
       "    </tr>\n",
       "    <tr>\n",
       "      <th>228</th>\n",
       "      <td>59</td>\n",
       "      <td>1</td>\n",
       "      <td>3</td>\n",
       "      <td>170</td>\n",
       "      <td>288</td>\n",
       "      <td>0</td>\n",
       "      <td>0</td>\n",
       "      <td>159</td>\n",
       "      <td>0</td>\n",
       "      <td>0.2</td>\n",
       "      <td>1</td>\n",
       "      <td>0</td>\n",
       "      <td>3</td>\n",
       "    </tr>\n",
       "    <tr>\n",
       "      <th>111</th>\n",
       "      <td>57</td>\n",
       "      <td>1</td>\n",
       "      <td>2</td>\n",
       "      <td>150</td>\n",
       "      <td>126</td>\n",
       "      <td>1</td>\n",
       "      <td>1</td>\n",
       "      <td>173</td>\n",
       "      <td>0</td>\n",
       "      <td>0.2</td>\n",
       "      <td>2</td>\n",
       "      <td>1</td>\n",
       "      <td>3</td>\n",
       "    </tr>\n",
       "    <tr>\n",
       "      <th>246</th>\n",
       "      <td>56</td>\n",
       "      <td>0</td>\n",
       "      <td>0</td>\n",
       "      <td>134</td>\n",
       "      <td>409</td>\n",
       "      <td>0</td>\n",
       "      <td>0</td>\n",
       "      <td>150</td>\n",
       "      <td>1</td>\n",
       "      <td>1.9</td>\n",
       "      <td>1</td>\n",
       "      <td>2</td>\n",
       "      <td>3</td>\n",
       "    </tr>\n",
       "    <tr>\n",
       "      <th>60</th>\n",
       "      <td>71</td>\n",
       "      <td>0</td>\n",
       "      <td>2</td>\n",
       "      <td>110</td>\n",
       "      <td>265</td>\n",
       "      <td>1</td>\n",
       "      <td>0</td>\n",
       "      <td>130</td>\n",
       "      <td>0</td>\n",
       "      <td>0.0</td>\n",
       "      <td>2</td>\n",
       "      <td>1</td>\n",
       "      <td>2</td>\n",
       "    </tr>\n",
       "    <tr>\n",
       "      <th>...</th>\n",
       "      <td>...</td>\n",
       "      <td>...</td>\n",
       "      <td>...</td>\n",
       "      <td>...</td>\n",
       "      <td>...</td>\n",
       "      <td>...</td>\n",
       "      <td>...</td>\n",
       "      <td>...</td>\n",
       "      <td>...</td>\n",
       "      <td>...</td>\n",
       "      <td>...</td>\n",
       "      <td>...</td>\n",
       "      <td>...</td>\n",
       "    </tr>\n",
       "    <tr>\n",
       "      <th>249</th>\n",
       "      <td>69</td>\n",
       "      <td>1</td>\n",
       "      <td>2</td>\n",
       "      <td>140</td>\n",
       "      <td>254</td>\n",
       "      <td>0</td>\n",
       "      <td>0</td>\n",
       "      <td>146</td>\n",
       "      <td>0</td>\n",
       "      <td>2.0</td>\n",
       "      <td>1</td>\n",
       "      <td>3</td>\n",
       "      <td>3</td>\n",
       "    </tr>\n",
       "    <tr>\n",
       "      <th>104</th>\n",
       "      <td>50</td>\n",
       "      <td>1</td>\n",
       "      <td>2</td>\n",
       "      <td>129</td>\n",
       "      <td>196</td>\n",
       "      <td>0</td>\n",
       "      <td>1</td>\n",
       "      <td>163</td>\n",
       "      <td>0</td>\n",
       "      <td>0.0</td>\n",
       "      <td>2</td>\n",
       "      <td>0</td>\n",
       "      <td>2</td>\n",
       "    </tr>\n",
       "    <tr>\n",
       "      <th>300</th>\n",
       "      <td>68</td>\n",
       "      <td>1</td>\n",
       "      <td>0</td>\n",
       "      <td>144</td>\n",
       "      <td>193</td>\n",
       "      <td>1</td>\n",
       "      <td>1</td>\n",
       "      <td>141</td>\n",
       "      <td>0</td>\n",
       "      <td>3.4</td>\n",
       "      <td>1</td>\n",
       "      <td>2</td>\n",
       "      <td>3</td>\n",
       "    </tr>\n",
       "    <tr>\n",
       "      <th>193</th>\n",
       "      <td>60</td>\n",
       "      <td>1</td>\n",
       "      <td>0</td>\n",
       "      <td>145</td>\n",
       "      <td>282</td>\n",
       "      <td>0</td>\n",
       "      <td>0</td>\n",
       "      <td>142</td>\n",
       "      <td>1</td>\n",
       "      <td>2.8</td>\n",
       "      <td>1</td>\n",
       "      <td>2</td>\n",
       "      <td>3</td>\n",
       "    </tr>\n",
       "    <tr>\n",
       "      <th>184</th>\n",
       "      <td>50</td>\n",
       "      <td>1</td>\n",
       "      <td>0</td>\n",
       "      <td>150</td>\n",
       "      <td>243</td>\n",
       "      <td>0</td>\n",
       "      <td>0</td>\n",
       "      <td>128</td>\n",
       "      <td>0</td>\n",
       "      <td>2.6</td>\n",
       "      <td>1</td>\n",
       "      <td>0</td>\n",
       "      <td>3</td>\n",
       "    </tr>\n",
       "  </tbody>\n",
       "</table>\n",
       "<p>61 rows × 13 columns</p>\n",
       "</div>"
      ],
      "text/plain": [
       "     age  sex  chest_pain  resting_blood_pressure  cholestoral  \\\n",
       "179   57    1           0                     150          276   \n",
       "228   59    1           3                     170          288   \n",
       "111   57    1           2                     150          126   \n",
       "246   56    0           0                     134          409   \n",
       "60    71    0           2                     110          265   \n",
       "..   ...  ...         ...                     ...          ...   \n",
       "249   69    1           2                     140          254   \n",
       "104   50    1           2                     129          196   \n",
       "300   68    1           0                     144          193   \n",
       "193   60    1           0                     145          282   \n",
       "184   50    1           0                     150          243   \n",
       "\n",
       "     fasting_blood_sugar  resting_electrocardiographic  \\\n",
       "179                    0                             0   \n",
       "228                    0                             0   \n",
       "111                    1                             1   \n",
       "246                    0                             0   \n",
       "60                     1                             0   \n",
       "..                   ...                           ...   \n",
       "249                    0                             0   \n",
       "104                    0                             1   \n",
       "300                    1                             1   \n",
       "193                    0                             0   \n",
       "184                    0                             0   \n",
       "\n",
       "     maximum_heart_rate_achieved  exercise_induced_angina  previous_peak  slp  \\\n",
       "179                          112                        1            0.6    1   \n",
       "228                          159                        0            0.2    1   \n",
       "111                          173                        0            0.2    2   \n",
       "246                          150                        1            1.9    1   \n",
       "60                           130                        0            0.0    2   \n",
       "..                           ...                      ...            ...  ...   \n",
       "249                          146                        0            2.0    1   \n",
       "104                          163                        0            0.0    2   \n",
       "300                          141                        0            3.4    1   \n",
       "193                          142                        1            2.8    1   \n",
       "184                          128                        0            2.6    1   \n",
       "\n",
       "     number_major_vessels  thal_rate  \n",
       "179                     1          1  \n",
       "228                     0          3  \n",
       "111                     1          3  \n",
       "246                     2          3  \n",
       "60                      1          2  \n",
       "..                    ...        ...  \n",
       "249                     3          3  \n",
       "104                     0          2  \n",
       "300                     2          3  \n",
       "193                     2          3  \n",
       "184                     0          3  \n",
       "\n",
       "[61 rows x 13 columns]"
      ]
     },
     "execution_count": 32,
     "metadata": {},
     "output_type": "execute_result"
    }
   ],
   "source": [
    "X_test"
   ]
  },
  {
   "cell_type": "code",
   "execution_count": 33,
   "id": "d6349dce",
   "metadata": {},
   "outputs": [
    {
     "data": {
      "text/plain": [
       "array([0, 1, 1, 0, 1, 1, 1, 0, 0, 0, 1, 0, 1, 0, 1, 1, 1, 0, 0, 0, 1, 0,\n",
       "       0, 1, 1, 1, 1, 1, 0, 1, 0, 0, 0, 0, 1, 0, 1, 1, 1, 1, 0, 1, 1, 1,\n",
       "       1, 0, 1, 1, 0, 0, 0, 0, 1, 1, 0, 0, 0, 1, 0, 0, 0], dtype=int64)"
      ]
     },
     "execution_count": 33,
     "metadata": {},
     "output_type": "execute_result"
    }
   ],
   "source": [
    "model_heart_attack.predict(X = X_test)"
   ]
  },
  {
   "cell_type": "markdown",
   "id": "4a8575a9",
   "metadata": {},
   "source": [
    "**Matríz de confusión**"
   ]
  },
  {
   "cell_type": "code",
   "execution_count": 34,
   "id": "57952b0e",
   "metadata": {},
   "outputs": [
    {
     "name": "stdout",
     "output_type": "stream",
     "text": [
      "[[25  4]\n",
      " [ 5 27]]\n"
     ]
    },
    {
     "data": {
      "text/plain": [
       "<AxesSubplot:>"
      ]
     },
     "execution_count": 34,
     "metadata": {},
     "output_type": "execute_result"
    },
    {
     "data": {
      "image/png": "[encoded data removed]",
      "text/plain": [
       "<Figure size 432x288 with 2 Axes>"
      ]
     },
     "metadata": {
      "needs_background": "light"
     },
     "output_type": "display_data"
    }
   ],
   "source": [
    "model_heart_attack_prediction = model_heart_attack.predict(X = X_test)\n",
    "confusionmatrix_heart_attack_prediction = metrics.confusion_matrix(y_test, model_heart_attack_prediction)\n",
    "print(confusionmatrix_heart_attack_prediction)\n",
    "sns.heatmap(confusionmatrix_heart_attack_prediction, annot=True,  cmap=\"Blues\")"
   ]
  },
  {
   "cell_type": "code",
   "execution_count": null,
   "id": "045b3297",
   "metadata": {},
   "outputs": [],
   "source": []
  },
  {
   "cell_type": "markdown",
   "id": "fb178a92",
   "metadata": {},
   "source": [
    "**Análisis de la distribución de la normalidad de los datos**"
   ]
  },
  {
   "cell_type": "code",
   "execution_count": 35,
   "id": "39674a34",
   "metadata": {},
   "outputs": [
    {
     "name": "stderr",
     "output_type": "stream",
     "text": [
      "C:\\Users\\olaslu02\\Anaconda3\\lib\\site-packages\\seaborn\\distributions.py:2557: FutureWarning: `distplot` is a deprecated function and will be removed in a future version. Please adapt your code to use either `displot` (a figure-level function with similar flexibility) or `histplot` (an axes-level function for histograms).\n",
      "  warnings.warn(msg, FutureWarning)\n"
     ]
    },
    {
     "data": {
      "text/plain": [
       "ShapiroResult(statistic=0.9863715767860413, pvalue=0.005801409482955933)"
      ]
     },
     "execution_count": 35,
     "metadata": {},
     "output_type": "execute_result"
    },
    {
     "data": {
      "image/png": "[encoded data removed]",
      "text/plain": [
       "<Figure size 432x288 with 1 Axes>"
      ]
     },
     "metadata": {
      "needs_background": "light"
     },
     "output_type": "display_data"
    }
   ],
   "source": [
    "#Age\n",
    "sns.distplot(df_heart_original[\"age\"], kde=True)\n",
    "stats.shapiro(df_heart_original[\"age\"])"
   ]
  },
  {
   "cell_type": "code",
   "execution_count": 36,
   "id": "ce7046da",
   "metadata": {},
   "outputs": [
    {
     "data": {
      "text/plain": [
       "ShapiroResult(statistic=0.6335940361022949, pvalue=5.667309370347439e-25)"
      ]
     },
     "execution_count": 36,
     "metadata": {},
     "output_type": "execute_result"
    }
   ],
   "source": [
    "#output\n",
    "stats.shapiro(df_heart_original[\"output\"])"
   ]
  },
  {
   "cell_type": "code",
   "execution_count": 37,
   "id": "cf42f26b",
   "metadata": {},
   "outputs": [
    {
     "data": {
      "text/plain": [
       "ShapiroResult(statistic=0.9763151407241821, pvalue=6.620329077122733e-05)"
      ]
     },
     "execution_count": 37,
     "metadata": {},
     "output_type": "execute_result"
    }
   ],
   "source": [
    "#maximum_heart_rate_achieved\n",
    "stats.shapiro(df_heart_original[\"maximum_heart_rate_achieved\"])"
   ]
  },
  {
   "cell_type": "code",
   "execution_count": 38,
   "id": "4f388f89",
   "metadata": {},
   "outputs": [
    {
     "name": "stderr",
     "output_type": "stream",
     "text": [
      "C:\\Users\\olaslu02\\Anaconda3\\lib\\site-packages\\seaborn\\distributions.py:2557: FutureWarning: `distplot` is a deprecated function and will be removed in a future version. Please adapt your code to use either `displot` (a figure-level function with similar flexibility) or `histplot` (an axes-level function for histograms).\n",
      "  warnings.warn(msg, FutureWarning)\n"
     ]
    },
    {
     "data": {
      "text/plain": [
       "ShapiroResult(statistic=0.965917706489563, pvalue=1.4580031120203785e-06)"
      ]
     },
     "execution_count": 38,
     "metadata": {},
     "output_type": "execute_result"
    },
    {
     "data": {
      "image/png": "[encoded data removed]",
      "text/plain": [
       "<Figure size 432x288 with 1 Axes>"
      ]
     },
     "metadata": {
      "needs_background": "light"
     },
     "output_type": "display_data"
    }
   ],
   "source": [
    "#resting_blood_pressure\n",
    "sns.distplot(df_heart_original[\"resting_blood_pressure\"], kde=True)\n",
    "stats.shapiro(df_heart_original[\"resting_blood_pressure\"])"
   ]
  },
  {
   "cell_type": "code",
   "execution_count": 39,
   "id": "cb24f864",
   "metadata": {},
   "outputs": [
    {
     "name": "stderr",
     "output_type": "stream",
     "text": [
      "C:\\Users\\olaslu02\\Anaconda3\\lib\\site-packages\\seaborn\\distributions.py:2557: FutureWarning: `distplot` is a deprecated function and will be removed in a future version. Please adapt your code to use either `displot` (a figure-level function with similar flexibility) or `histplot` (an axes-level function for histograms).\n",
      "  warnings.warn(msg, FutureWarning)\n"
     ]
    },
    {
     "data": {
      "image/png": "[encoded data removed]",
      "text/plain": [
       "<Figure size 432x288 with 1 Axes>"
      ]
     },
     "metadata": {
      "needs_background": "light"
     },
     "output_type": "display_data"
    },
    {
     "name": "stdout",
     "output_type": "stream",
     "text": [
      "ShapiroResult(statistic=0.9468814134597778, pvalue=5.364669153351542e-09)\n"
     ]
    }
   ],
   "source": [
    "#cholestoral\n",
    "sns.distplot(df_heart_original[\"cholestoral\"], kde=True)\n",
    "plt.show()\n",
    "print(stats.shapiro(df_heart_original[\"cholestoral\"]))"
   ]
  },
  {
   "cell_type": "markdown",
   "id": "44a18b68",
   "metadata": {},
   "source": [
    "**Comprobación de la homocedasticidad**"
   ]
  },
  {
   "cell_type": "code",
   "execution_count": 40,
   "id": "2ff14c94",
   "metadata": {},
   "outputs": [
    {
     "name": "stdout",
     "output_type": "stream",
     "text": [
      "FlignerResult(statistic=100.7120267511718, pvalue=1.0637769001747002e-23)\n"
     ]
    }
   ],
   "source": [
    "#Vamos a utilizar el test de \"Fligner-Killeen\" ya que los datos no cumplen con una distribución normal.\n",
    "print(stats.fligner(df_heart_original[\"output\"], df_heart_original[\"chest_pain\"], center=\"median\"))\n"
   ]
  },
  {
   "cell_type": "code",
   "execution_count": 41,
   "id": "b5b7e827",
   "metadata": {},
   "outputs": [
    {
     "name": "stdout",
     "output_type": "stream",
     "text": [
      "FlignerResult(statistic=339.46858788301904, pvalue=8.329193801476473e-76)\n"
     ]
    }
   ],
   "source": [
    "print(stats.fligner(df_heart_original[\"output\"], df_heart_original[\"age\"], center=\"median\"))\n"
   ]
  },
  {
   "cell_type": "code",
   "execution_count": 42,
   "id": "4e825d5a",
   "metadata": {},
   "outputs": [
    {
     "name": "stdout",
     "output_type": "stream",
     "text": [
      "FlignerResult(statistic=292.1629911856713, pvalue=1.6798327578547844e-65)\n"
     ]
    }
   ],
   "source": [
    "print(stats.fligner(df_heart_original[\"output\"], df_heart_original[\"resting_blood_pressure\"], center=\"median\"))"
   ]
  },
  {
   "cell_type": "markdown",
   "id": "db9d629c",
   "metadata": {},
   "source": [
    "**6. Resolución del problema** \n",
    "A partir de los resultados obtenidos: \n",
    "* ¿Cuáles son las conclusiones? \n",
    "* ¿Los resultados permiten responder al problema?"
   ]
  },
  {
   "cell_type": "markdown",
   "id": "3ab8bb95",
   "metadata": {},
   "source": [
    "**Conclusión**\n",
    "\n",
    "Después de aplicar los análisis estadísticos de tipo descriptivo e inferencial al conjunto de datos *Heart Attack Analysis & Prediction Dataset*, vemos que las variables que influyen más en los infartos son:\n",
    "\n",
    "* chest_pain\n",
    "* maxium_heart_rate_achieved\n",
    "\n",
    "Aunque en nuestro análisis de correlación, la variable *age* no figura, también se hizo un análisis tomando en cuenta esta variable, dando por resultado que la edad si es un factor en el número de infartos.\n",
    "\n",
    "Se realizo un análisis de regresión logística, en donde la precisión de nuestro algoritmo fue del 86.36%, el cual no es bueno, ya que al tratarse un tema de salud, en mi opinión, deberíamos tener una precisión de al menos un 98% para disminuir el riesgo de realizar análisis erróneos y pueda provocar pérdida de vidas.\n",
    "\n",
    "Como conclusión, el conjunto de datos *Heart Attack Analysis & Prediction Dataset*, necesita recabar más datos para ofrecer resultados más confiables.\n"
   ]
  },
  {
   "cell_type": "markdown",
   "id": "0cd3360c",
   "metadata": {},
   "source": [
    "**Contribuciones**\n",
    "* Investigación previa: Luis Enrique Olascoaga Dominguez\n",
    "* Redacción de las respuestas: Luis Enrique Olascoaga Dominguez\n",
    "* Desarrollo del código: Luis Enrique Olascoaga Dominguez\n",
    "* Participación en el vídeo: Luis Enrique Olascoaga Dominguez"
   ]
  },
  {
   "cell_type": "code",
   "execution_count": null,
   "id": "450b3aa1",
   "metadata": {},
   "outputs": [],
   "source": []
  }
 ],
 "metadata": {
  "kernelspec": {
   "display_name": "Python 3",
   "language": "python",
   "name": "python3"
  },
  "language_info": {
   "codemirror_mode": {
    "name": "ipython",
    "version": 3
   },
   "file_extension": ".py",
   "mimetype": "text/x-python",
   "name": "python",
   "nbconvert_exporter": "python",
   "pygments_lexer": "ipython3",
   "version": "3.8.8"
  }
 },
 "nbformat": 4,
 "nbformat_minor": 5
}
